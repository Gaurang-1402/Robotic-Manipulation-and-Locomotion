{
 "cells": [
  {
   "attachments": {},
   "cell_type": "markdown",
   "metadata": {},
   "source": [
    "## HW1 helper functions"
   ]
  },
  {
   "cell_type": "code",
   "execution_count": 2,
   "metadata": {},
   "outputs": [],
   "source": [
    "from __future__ import print_function\n",
    "\n",
    "# setup some librairies and display options\n",
    "%matplotlib notebook\n",
    "\n",
    "import numpy as np\n",
    "import matplotlib.pyplot as plt\n",
    "\n",
    "# be careful we will only print the first 5 digits and round small numbers in arrays\n",
    "np.set_printoptions(suppress=True, precision=5)\n",
    "\n",
    "# libraries to make things interactive\n",
    "from ipywidgets import interact, interactive, fixed, interact_manual\n",
    "import ipywidgets as widgets\n",
    "from IPython.display import display, Latex, Markdown\n",
    "\n",
    "# a nice function to print pretty matrices in latex\n",
    "def bmatrix(a):\n",
    "    \"\"\"Returns a LaTeX bmatrix\n",
    "\n",
    "    :a: numpy array\n",
    "    :returns: LaTeX bmatrix as a string\n",
    "    \"\"\"\n",
    "    if len(a.shape) > 2:\n",
    "        raise ValueError('bmatrix can at most display two dimensions')\n",
    "    lines = str(a).replace('[', '').replace(']', '').splitlines()\n",
    "    rv = [r'\\begin{bmatrix}']\n",
    "    rv += ['  ' + ' & '.join(l.split()) + r'\\\\' for l in lines]\n",
    "    rv +=  [r'\\end{bmatrix}']\n",
    "    return str(''.join(rv))\n",
    "\n",
    "def pmatrix(a):\n",
    "    \"\"\"Returns a LaTeX bmatrix\n",
    "\n",
    "    :a: numpy array\n",
    "    :returns: LaTeX bmatrix as a string\n",
    "    \"\"\"\n",
    "    if len(a.shape) > 2:\n",
    "        raise ValueError('bmatrix can at most display two dimensions')\n",
    "    lines = str(a).replace('[', '').replace(']', '').splitlines()\n",
    "    rv = [r'\\begin{pmatrix}']\n",
    "    rv += ['  ' + ' & '.join(l.split()) + r'\\\\' for l in lines]\n",
    "    rv +=  [r'\\end{pmatrix}']\n",
    "    return str(''.join(rv))"
   ]
  },
  {
   "attachments": {},
   "cell_type": "markdown",
   "metadata": {},
   "source": [
    "A rotation matrix can be used to describe the relative orientation of a frame with respect to another. Each column of a rotation matrix contains to the coordinates of one axis of the rotated frame with respect to the original frame.\n",
    "\n",
    "Rotation matrices are typically used for three different purposes\n",
    "1. To describe the orientation of a frame with respect to another\n",
    "2. To rotate a point, a vector or a rigid body\n",
    "3. To change coordinates\n",
    "\n",
    "We give example of all of these uses in 2D below\n",
    "\n",
    "# Rotations in 2D\n",
    "The only possible rotations in 2D are rotations around an axis orthogonal to the plane. A rotation of $\\theta$  can be written as the rotation matrix $$R(\\theta) = \\begin{bmatrix} \\cos\\theta & -\\sin\\theta \\\\ \\sin\\theta & \\cos\\theta \\end{bmatrix}$$\n",
    "\n",
    "First we write a function that creates a 2D rotation matrix"
   ]
  },
  {
   "cell_type": "code",
   "execution_count": 3,
   "metadata": {},
   "outputs": [
    {
     "data": {
      "text/markdown": [
       "we can get and print a rotation of $\\theta$"
      ],
      "text/plain": [
       "<IPython.core.display.Markdown object>"
      ]
     },
     "metadata": {},
     "output_type": "display_data"
    },
    {
     "data": {
      "text/markdown": [
       "$R = \\begin{bmatrix}  0.86603 & -0.\\\\  0. & -0.86603\\\\\\end{bmatrix}$"
      ],
      "text/plain": [
       "<IPython.core.display.Markdown object>"
      ]
     },
     "metadata": {},
     "output_type": "display_data"
    }
   ],
   "source": [
    "\n",
    "def get_rotation_2D(theta, is_x_reflected=False, is_y_reflected=False):\n",
    "    \"\"\"This function gets an angle and returns a rotation matrix representing a 2D rotation of theta\"\"\"\n",
    "    \n",
    "    # TODO if is_x_reflected and is_y_reflected:\n",
    "        \n",
    "    \n",
    "    if is_y_reflected:\n",
    "        return np.array([[np.cos(theta), -np.sin(theta)],[np.sin(theta), np.cos(theta)]]) * np.array([[1, 0], [0, -1]])\n",
    "    \n",
    "    if is_x_reflected:\n",
    "        return np.array([[np.cos(theta), -np.sin(theta)],[np.sin(theta), np.cos(theta)]]) *  np.array([[-1, 0], [0, 1]])\n",
    "    \n",
    "    return np.array([[np.cos(theta), -np.sin(theta)],[np.sin(theta), np.cos(theta)]])\n",
    "\n",
    "# we can get and print a rotation of theta=pi/4\n",
    "R = get_rotation_2D(np.pi/6, is_y_reflected=True)\n",
    "\n",
    "display(Markdown('we can get and print a rotation of ' + r'$\\theta$'))\n",
    "display(Markdown('$R = ' + bmatrix(R) + '$'))"
   ]
  },
  {
   "attachments": {},
   "cell_type": "markdown",
   "metadata": {},
   "source": [
    "## Properties of rotation matrices\n",
    "We can also verify that for any random $\\theta$, the matrix is orthogonal and has determinant equal to 1"
   ]
  },
  {
   "cell_type": "code",
   "execution_count": null,
   "metadata": {},
   "outputs": [],
   "source": []
  },
  {
   "cell_type": "code",
   "execution_count": 4,
   "metadata": {},
   "outputs": [
    {
     "data": {
      "text/markdown": [
       "$\\theta$ = Ellipsis\n"
      ],
      "text/plain": [
       "<IPython.core.display.Markdown object>"
      ]
     },
     "metadata": {},
     "output_type": "display_data"
    },
    {
     "data": {
      "text/markdown": [
       "$R = \\begin{bmatrix}  0.6974 & -0.77431 & 0.38699\\\\  -0.48206 & -0.54297 & -0.68562\\\\  0.69783 & 0.14771 & -0.89304\\\\\\end{bmatrix}$"
      ],
      "text/plain": [
       "<IPython.core.display.Markdown object>"
      ]
     },
     "metadata": {},
     "output_type": "display_data"
    },
    {
     "data": {
      "text/markdown": [
       "$R \\cdot R^T = \\begin{bmatrix}  1.23568 & -0.18109 & 0.0267\\\\  -0.18109 & 0.99728 & 0.19569\\\\  0.0267 & 0.19569 & 1.3063\\\\\\end{bmatrix}$"
      ],
      "text/plain": [
       "<IPython.core.display.Markdown object>"
      ]
     },
     "metadata": {},
     "output_type": "display_data"
    },
    {
     "data": {
      "text/markdown": [
       "$R^T \\cdot R = \\begin{bmatrix}  1.20572 & -0.17518 & -0.02279\\\\  -0.17518 & 0.91619 & -0.05929\\\\  -0.02279 & -0.05929 & 1.41736\\\\\\end{bmatrix}$"
      ],
      "text/plain": [
       "<IPython.core.display.Markdown object>"
      ]
     },
     "metadata": {},
     "output_type": "display_data"
    },
    {
     "name": "stdout",
     "output_type": "stream",
     "text": [
      "det(R) = 1.231676393437032\n"
     ]
    }
   ],
   "source": [
    "# TODO: uncomment\n",
    "theta = ...\n",
    "# R = get_rotation_2D(theta)\n",
    "\n",
    "\n",
    "# * R1 = np.array([[-0.10761548, -0.41113130, -0.90520162], [0.98901804, -0.13704466, -0.05533607], [-0.10130266, -0.90121575, 0.42136439]])\n",
    "# ! R2 = np.array([[-0.58009582, -0.22621631, 0.76238773], [-0.67848847, -0.31125822, -0.56780201], [0.64235080, -0.96794980, 0.14389378]])\n",
    "# * R3 = np.array([[0.80573370, 0.11750521, -0.58050472], [-0.23580136, 0.96273803, -0.13241299], [0.54331475, 0.24357341, 0.80341837]])\n",
    "# * R4 = np.array([[0.23249600, -0.18131522, -0.95554717], [-0.87464304, 0.39071662, -0.28694960], [0.42537649, 0.90247732, -0.06774604]])\n",
    "# ! R5 = np.array([[0.69740483, -0.77430588, 0.38698850], [-0.48206339, -0.54297335, -0.68562213], [0.69782640, 0.14771323, -0.89303975]])\n",
    "\n",
    "\n",
    "R = np.array([[0.69740483, -0.77430588, 0.38698850], [-0.48206339, -0.54297335, -0.68562213], [0.69782640, 0.14771323, -0.89303975]])\n",
    "\n",
    "\n",
    "display(Markdown(r'$\\theta$ = ' + f'{theta}\\n'))\n",
    "display(Markdown('$R = ' + bmatrix(R) + '$'))\n",
    "display(Markdown('$R \\cdot R^T = ' + bmatrix(R@R.T) + '$'))\n",
    "display(Markdown('$R^T \\cdot R = ' + bmatrix(R.T@R) + '$'))\n",
    "\n",
    "print(f'det(R) = {np.linalg.det(R)}')"
   ]
  },
  {
   "attachments": {},
   "cell_type": "markdown",
   "metadata": {},
   "source": [
    "### Problem 1.4"
   ]
  },
  {
   "cell_type": "code",
   "execution_count": 5,
   "metadata": {},
   "outputs": [
    {
     "data": {
      "text/plain": [
       "array([[-1.51456],\n",
       "       [ 0.21638]])"
      ]
     },
     "execution_count": 5,
     "metadata": {},
     "output_type": "execute_result"
    }
   ],
   "source": [
    "# * Variant 1\n",
    "\n",
    "p_84 = np.array([[0.96086095], [-0.64535621]])\n",
    "R_84 = np.array([[0.99996130, -0.00879799], [0.00879799, 0.99996130]])\n",
    "q_8 = np.array([[-0.55744701], [-0.42409166]])\n",
    "\n",
    "# q_8 into q_48\n",
    "q_48 = R_84.dot(q_8)\n",
    "\n",
    "q_44 = -p_84 + q_48\n",
    "\n",
    "q_44"
   ]
  },
  {
   "cell_type": "code",
   "execution_count": 6,
   "metadata": {},
   "outputs": [
    {
     "data": {
      "text/plain": [
       "array([[-0.4817],\n",
       "       [ 0.8054]])"
      ]
     },
     "execution_count": 6,
     "metadata": {},
     "output_type": "execute_result"
    }
   ],
   "source": [
    "# * Variant 2\n",
    "\n",
    "p_46 = np.array([[-0.93881365], [0.25679497]])\n",
    "R_46 = np.array([[0.35313045, 0.93557410], [-0.93557410, 0.35313045]])\n",
    "q_6 = np.array([[-0.35183909], [0.62138823]])\n",
    "\n",
    "# q_6 into q_46\n",
    "q_46 = R_46.dot(q_6)\n",
    "\n",
    "q_44 = p_46 + q_46\n",
    "q_44"
   ]
  },
  {
   "attachments": {},
   "cell_type": "markdown",
   "metadata": {},
   "source": [
    "### Problem 1.7"
   ]
  },
  {
   "cell_type": "code",
   "execution_count": 7,
   "metadata": {},
   "outputs": [
    {
     "data": {
      "text/plain": [
       "array([[-0.56737],\n",
       "       [-0.36029],\n",
       "       [ 0.53453]])"
      ]
     },
     "execution_count": 7,
     "metadata": {},
     "output_type": "execute_result"
    }
   ],
   "source": [
    "# * Variant 1\n",
    "\n",
    "Borigin_A = p_94 = np.array([0.79114713, -0.14789957, -0.14998143])\n",
    "\n",
    "# theta = np.pi/3\n",
    "\n",
    "R_x = R_94 = np.array([[-0.00814677, 0.60918952, 0.79298282], [0.03074542, 0.79278682, -0.60872308], [-0.99949405, 0.01942146, -0.02518845]])\n",
    "point = q_44 = np.array([[-0.67962356], [-0.98268493], [-0.96523565]])\n",
    "\n",
    "# Find q_94\n",
    "q_94 = np.dot(R_94, q_44) + p_94.reshape(3, 1)\n",
    "\n",
    "q_94"
   ]
  },
  {
   "cell_type": "code",
   "execution_count": 8,
   "metadata": {},
   "outputs": [
    {
     "data": {
      "text/plain": [
       "array([[-0.574  ],\n",
       "       [ 0.86999],\n",
       "       [-1.41747]])"
      ]
     },
     "execution_count": 8,
     "metadata": {},
     "output_type": "execute_result"
    }
   ],
   "source": [
    "# * offset of B origin from A origin\n",
    "Borigin_A = p_60 = np.array([0.45805854, 0.54111007, -0.81941494])\n",
    "\n",
    "# theta = np.pi/3\n",
    "\n",
    "R_x = R_60 = np.array([[-0.96473218, 0.12134664, -0.23359540], [0.12911847, 0.99146193, -0.01821170], [0.22939102, -0.04773089, -0.97216332]])\n",
    "point = q_00 = np.array([[0.90093863], [0.22937904], [0.81650240]])\n",
    "\n",
    "# Find q_60\n",
    "q_60 = np.dot(R_60, q_00) + p_60.reshape(3, 1)\n",
    "q_60\n",
    "# print(q_60)"
   ]
  },
  {
   "attachments": {},
   "cell_type": "markdown",
   "metadata": {},
   "source": [
    "[![Screenshot-2023-02-05-104920.png](https://i.postimg.cc/25fxjs06/Screenshot-2023-02-05-104920.png)](https://postimg.cc/dh4C4xPP)\n",
    "\n",
    "[![image.png](https://i.postimg.cc/CKPHCRFZ/image.png)](https://postimg.cc/nsmDpc9Z)"
   ]
  },
  {
   "cell_type": "code",
   "execution_count": 9,
   "metadata": {},
   "outputs": [
    {
     "data": {
      "text/plain": [
       "array([[ 0.20326],\n",
       "       [-1.23863],\n",
       "       [-1.1424 ]])"
      ]
     },
     "execution_count": 9,
     "metadata": {},
     "output_type": "execute_result"
    }
   ],
   "source": [
    "# ! variant 2\n",
    "\n",
    "# * offset of B origin from A origin\n",
    "Borigin_A = p_62 = np.array([-0.74646944, -0.52337828, 0.94708969])\n",
    "\n",
    "# theta = np.pi/3\n",
    "\n",
    "R_x = R_62 = np.array([[-0.53290233, -0.75344121, 0.38515121], [0.80708298, -0.31582559, 0.49886999], [-0.25422860, 0.57669796, 0.77639377]])\n",
    "point = q_66 = np.array([[-0.36154442], [-0.53805158], [-0.70585669]])\n",
    "\n",
    "# translate evertyhing to axis 2\n",
    "q_26 = np.dot(R_62.T, q_66)  # inverse and then dot product\n",
    "p_26 = np.dot(R_62.T, p_62.reshape(3, 1))\n",
    "\n",
    "# now find the path in axis 2 using vector sum\n",
    "path_in_axis_2 = q_26 - p_26\n",
    "\n",
    "path_in_axis_2"
   ]
  },
  {
   "cell_type": "code",
   "execution_count": 10,
   "metadata": {},
   "outputs": [
    {
     "data": {
      "text/plain": [
       "array([[ 0.93961],\n",
       "       [ 0.55085],\n",
       "       [-1.32514]])"
      ]
     },
     "execution_count": 10,
     "metadata": {},
     "output_type": "execute_result"
    }
   ],
   "source": [
    "# ! variant 2\n",
    "\n",
    "# * offset of B origin from A origin\n",
    "Borigin_A = p_87 = np.array([-0.44859274, 0.72677313, 0.06891165])\n",
    "\n",
    "# theta = np.pi/3\n",
    "R_x = R_87 = np.array([[0.77827776, 0.04352599, 0.62640978], [-0.53083687, -0.48725870, 0.69339107], [0.33540415, -0.87217226, -0.35611741]])\n",
    "\n",
    "point = q_88 = np.array([[-0.52342082], [-0.95925166], [0.37552983]])\n",
    "\n",
    "# translate evertyhing to axis 7\n",
    "q_78 = np.dot(R_87.T, q_88) # inverse of R_87 and then dot product\n",
    "p_78 = np.dot(R_87.T, p_87.reshape(3, 1))\n",
    "\n",
    "# now find the path in axis 7 using vector sum\n",
    "path_in_axis_7 = q_78 - p_78\n",
    "\n",
    "path_in_axis_7"
   ]
  },
  {
   "cell_type": "code",
   "execution_count": 11,
   "metadata": {},
   "outputs": [
    {
     "data": {
      "text/plain": [
       "array([[-0.72431],\n",
       "       [ 1.04295],\n",
       "       [ 0.75207]])"
      ]
     },
     "execution_count": 11,
     "metadata": {},
     "output_type": "execute_result"
    }
   ],
   "source": [
    "# ! variant 2\n",
    "\n",
    "# * offset of B origin from A origin\n",
    "Borigin_A = p_14 = np.array([[-0.26454129], [0.41259182], [-0.84779370]])\n",
    "\n",
    "# theta = np.pi/3\n",
    "R_x = R_41 = np.array([[0.85049226, 0.52056708, -0.07531821], [0.24888631, -0.52443690, -0.81426134], [-0.46337730, 0.67377730, -0.57559155]])\n",
    "\n",
    "point = q_44 = np.array([[-0.39428019], [-0.92702154], [-0.24232918]])\n",
    "\n",
    "# translate evertyhing to axis 1\n",
    "q_14 = np.dot(R_41.T, q_44)\n",
    "p_14 = np.dot(R_41.T, p_14.reshape(3, 1))\n",
    "\n",
    "# now find the path in axis 1 using vector sum\n",
    "path_in_axis_1 = q_14 - p_14\n",
    "\n",
    "path_in_axis_1"
   ]
  },
  {
   "attachments": {},
   "cell_type": "markdown",
   "metadata": {},
   "source": [
    "### Problem 1.8"
   ]
  },
  {
   "attachments": {},
   "cell_type": "markdown",
   "metadata": {},
   "source": [
    "[![image.png](https://i.postimg.cc/ZnSzh8Rg/image.png)](https://postimg.cc/BLMVT12c)\n",
    "\n",
    "[![image.png](https://i.postimg.cc/3xySnyrD/image.png)](https://postimg.cc/ZWSxq5dT)"
   ]
  },
  {
   "cell_type": "code",
   "execution_count": 23,
   "metadata": {},
   "outputs": [
    {
     "data": {
      "text/plain": [
       "array([[ 0.11907],\n",
       "       [-0.37055],\n",
       "       [-0.31547]])"
      ]
     },
     "execution_count": 23,
     "metadata": {},
     "output_type": "execute_result"
    }
   ],
   "source": [
    "# * offset of B origin from A origin\n",
    "Borigin_A = o_9in5 = np.array([[0.55440778], [-0.76436229], [-0.78469475]])\n",
    "\n",
    "# theta = np.pi/3\n",
    "R_x = R_9in5 = np.array([[0.07155755, 0.13053746, 0.98885767], [0.99609913, -0.06067355, -0.06407215], [0.05163369, 0.98958511, -0.13436990]])\n",
    "\n",
    "# point = q_44 = np.array([[-0.39428019], [-0.92702154], [-0.24232918]])\n",
    "\n",
    "vector = v_5in5 = np.array([[-0.35180568], [0.16130314], [-0.31815458]])\n",
    "\n",
    "# translate evertyhing to cooordinate 9\n",
    "v_9in5 = np.dot(R_9in5.T, v_5in5)\n",
    "\n",
    "v_9in5"
   ]
  },
  {
   "attachments": {},
   "cell_type": "markdown",
   "metadata": {},
   "source": [
    "### Problem 1.9"
   ]
  },
  {
   "cell_type": "code",
   "execution_count": 62,
   "metadata": {},
   "outputs": [
    {
     "name": "stdout",
     "output_type": "stream",
     "text": [
      "found it\n",
      "[[ 0.84269 -0.45481 -0.28812]\n",
      " [-0.50043 -0.85906 -0.10761]\n",
      " [-0.19857  0.23487 -0.95153]]\n",
      "[ 0.21851 -0.94158  0.19818]\n"
     ]
    },
    {
     "data": {
      "text/plain": [
       "array([[-0.81918],\n",
       "       [-1.67634],\n",
       "       [ 0.12588]])"
      ]
     },
     "execution_count": 62,
     "metadata": {},
     "output_type": "execute_result"
    }
   ],
   "source": [
    "# * offset of B origin from A origin\n",
    "Borigin_A = p_idk = np.array([0.21851409, -0.94158325, 0.19817520])\n",
    "\n",
    "# theta = np.pi/3\n",
    "R_x = R_idk = np.array([[0.84269460, -0.45480885, -0.28812276], [-0.50043488, -0.85906025, -0.10761234], [-0.19857177, 0.23487102, -0.95152764]])\n",
    "\n",
    "point_1 = q1_in0 = np.array([[-1.35845114], [0.31505727], [-0.34374760]])\n",
    "\n",
    "point_2 = q1_in1 = np.array([[-0.97049467], [-0.49542861], [0.86900841]])\n",
    "\n",
    "point_3 = q2_in1 = np.array([[0.25434323], [0.89489765], [-0.15265953]])\n",
    "\n",
    "possibilities = [(R_idk, p_idk), (R_idk.T, p_idk), (R_idk, -p_idk), (R_idk.T, -p_idk)]\n",
    "\n",
    "for (R, p) in possibilities:\n",
    "    zero_into_one = np.dot(R, point_1) + p.reshape(3, 1)\n",
    "    \n",
    "    if np.allclose(zero_into_one, point_2):\n",
    "        print('found it')\n",
    "        print(R)\n",
    "        print(p)\n",
    "        break\n",
    "    \n",
    "# Convert zero_into_one Rotation matrix and position vector to one_into_zero Rotation matrix and position vector\n",
    "\n",
    "R_one_to_zero = R.T\n",
    "p_one_to_zero = -np.dot(R.T, p)\n",
    "\n",
    "q2_in0 = np.dot(R_one_to_zero, q2_in1) + p_one_to_zero.reshape(3, 1)\n",
    "q2_in0\n",
    "\n",
    "# q2_in1 = np.dot(R, q2_in1) + p.reshape(3, 1)\n",
    "# q2_in1\n"
   ]
  }
 ],
 "metadata": {
  "kernelspec": {
   "display_name": "manipulation_and_locomotion_class_work",
   "language": "python",
   "name": "python3"
  },
  "language_info": {
   "codemirror_mode": {
    "name": "ipython",
    "version": 3
   },
   "file_extension": ".py",
   "mimetype": "text/x-python",
   "name": "python",
   "nbconvert_exporter": "python",
   "pygments_lexer": "ipython3",
   "version": "3.8.16"
  },
  "orig_nbformat": 4,
  "vscode": {
   "interpreter": {
    "hash": "e3d020f828c7b657823432f30379f5f035f7fc5e9ca5b3fc0a7e69cded9ebebc"
   }
  }
 },
 "nbformat": 4,
 "nbformat_minor": 2
}
