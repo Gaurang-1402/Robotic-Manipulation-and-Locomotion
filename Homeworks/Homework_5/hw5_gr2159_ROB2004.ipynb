{
 "cells": [
  {
   "cell_type": "code",
   "execution_count": 4,
   "metadata": {},
   "outputs": [],
   "source": [
    "import numpy as np \n",
    "import scipy as sp"
   ]
  },
  {
   "cell_type": "code",
   "execution_count": 5,
   "metadata": {},
   "outputs": [],
   "source": [
    "import numpy as np\n",
    "\n",
    "# ===================================\n",
    "\n",
    "get_skew = lambda a: np.array([[ 0, -a[2, 0], a[1, 0]], [a[2, 0], 0, -a[0, 0]], [-a[1, 0], a[0, 0], 0]])\n",
    "\n",
    "def get_w_from_skew(skew):\n",
    "    return np.array([[skew[2, 1]], [skew[0, 2]], [skew[1, 0]]])\n",
    "\n",
    "\n",
    "# ===================================\n",
    "\n",
    "get_linear_angular_velocity_from_twist = lambda twist: (twist[:3][:3], twist[3:][:3])\n",
    "\n",
    "create_twist_from_linear_angular_velocity = lambda linear_velocity, angular_velocity: np.vstack((linear_velocity, angular_velocity))\n",
    "\n",
    "def get_twist_skew(twist):\n",
    "    w, v = get_linear_angular_velocity_from_twist(twist)\n",
    "    w_skew = get_skew(w)\n",
    "    twist_skew = np.zeros((4, 4))\n",
    "\n",
    "    twist_skew[0:3, 0:3] = w_skew\n",
    "    \n",
    "    # ! twist_skew[:3, -1] returns a view of the last column of twist_skew but it is a row vector, v is a column vector\n",
    "    # ! so we need to transpose v to make it a row vector and set it by reference\n",
    "    twist_skew[:3, -1] = v.T\n",
    "\n",
    "    return twist_skew\n",
    "\n",
    "\n",
    "# ===================================\n",
    "\n",
    "get_time_from_w_time = lambda w_t: np.linalg.norm(w_t)\n",
    "\n",
    "# ===================================\n",
    "\n",
    "# Define the rotation matrices for each axis\n",
    "\n",
    "def get_x_rotation_matrix(theta, is_hybrid = False):\n",
    "    \n",
    "    if is_hybrid:\n",
    "        return np.array([\n",
    "            [1, 0, 0, 0],\n",
    "            [0, np.cos(theta), -np.sin(theta), 0],\n",
    "            [0, np.sin(theta), np.cos(theta), 0],\n",
    "            [0, 0, 0, 1]\n",
    "        ])\n",
    "    else:\n",
    "        return np.array([[1, 0, 0],\n",
    "                        [0, np.cos(theta), -np.sin(theta)],\n",
    "                        [0, np.sin(theta), np.cos(theta)]])\n",
    "    \n",
    "def get_y_rotation_matrix(theta, is_hybrid = False):\n",
    "    if is_hybrid:\n",
    "        return np.array([\n",
    "        [np.cos(theta), 0, np.sin(theta), 0],\n",
    "        [0, 1, 0, 0],\n",
    "        [-np.sin(theta), 0, np.cos(theta), 0],\n",
    "        [0, 0, 0, 1]\n",
    "    ])\n",
    "    else:\n",
    "        return np.array([[np.cos(theta), 0, np.sin(theta)],\n",
    "               [0, 1, 0],\n",
    "               [-np.sin(theta), 0, np.cos(theta)]])\n",
    "    \n",
    "def get_z_rotation_matrix(theta, is_hybrid = False):\n",
    "    if is_hybrid:\n",
    "        return np.array([\n",
    "            [np.cos(theta), -np.sin(theta), 0, 0],\n",
    "            [np.sin(theta), np.cos(theta), 0, 0],\n",
    "            [0, 0, 1, 0],\n",
    "            [0, 0, 0, 1]\n",
    "        ])\n",
    "    else:      \n",
    "        return np.array([[np.cos(theta), -np.sin(theta), 0],\n",
    "                [np.sin(theta), np.cos(theta), 0],\n",
    "                [0, 0, 1]])"
   ]
  },
  {
   "attachments": {},
   "cell_type": "markdown",
   "metadata": {},
   "source": [
    "# 5.1"
   ]
  },
  {
   "attachments": {},
   "cell_type": "markdown",
   "metadata": {},
   "source": [
    "[![image.png](https://i.postimg.cc/wvb8dyZ2/image.png)](https://postimg.cc/2bvXQ6zL)"
   ]
  },
  {
   "cell_type": "code",
   "execution_count": 6,
   "metadata": {},
   "outputs": [],
   "source": [
    "\n",
    "w_0_1 = w01 = np.array([[-2.53], [-0.90], [1.64]])\n",
    "\n",
    "final_time = t = 8.00"
   ]
  },
  {
   "attachments": {},
   "cell_type": "markdown",
   "metadata": {},
   "source": [
    "Both General case and Special case give the same answer, the only thing that is different is the rigour"
   ]
  },
  {
   "attachments": {},
   "cell_type": "markdown",
   "metadata": {},
   "source": [
    "### Special case based on the info in the question T_s_b[0] = $I$"
   ]
  },
  {
   "cell_type": "code",
   "execution_count": 7,
   "metadata": {},
   "outputs": [
    {
     "data": {
      "text/plain": [
       "array([[ 0.99972697, -0.02030428, -0.01156379],\n",
       "       [ 0.02065957,  0.99929078,  0.03148196],\n",
       "       [ 0.01091637, -0.03171226,  0.99943742]])"
      ]
     },
     "execution_count": 7,
     "metadata": {},
     "output_type": "execute_result"
    }
   ],
   "source": [
    "# T_s_b[t] = e^([V_s] * t) * T_s_b[0] \n",
    "\n",
    "# T_s_b[0] = I so\n",
    "\n",
    "# T_s_b[t] = e^([V_s] * t)\n",
    "\n",
    "w_s_skew = get_skew(w01)\n",
    "V_s_skwq = np.eye(4)\n",
    "V_s_skwq[0:3, 0:3] = w_s_skew * t\n",
    "V_s_skwq[3, 3] = 0\n",
    "\n",
    "ans = sp.linalg.expm(V_s_skwq)[0:3, 0:3]\n",
    "ans"
   ]
  },
  {
   "attachments": {},
   "cell_type": "markdown",
   "metadata": {},
   "source": [
    "### General case makes no assumptions\n",
    "\n",
    "[![image.png](https://i.postimg.cc/Gh4MfSbZ/image.png)](https://postimg.cc/TpXqL0L9)"
   ]
  },
  {
   "cell_type": "code",
   "execution_count": 8,
   "metadata": {},
   "outputs": [
    {
     "data": {
      "text/plain": [
       "array([[ 0.99972697, -0.02030428, -0.01156379],\n",
       "       [ 0.02065957,  0.99929078,  0.03148196],\n",
       "       [ 0.01091637, -0.03171226,  0.99943742]])"
      ]
     },
     "execution_count": 8,
     "metadata": {},
     "output_type": "execute_result"
    }
   ],
   "source": [
    "T_s_b = [0 for i in range(10)] \n",
    "\n",
    "t_inc = final_time / 10\n",
    "\n",
    "curr_t = 0\n",
    "\n",
    "curr_t += t_inc\n",
    "\n",
    "T_s_b[0] = np.eye(4)\n",
    "\n",
    "for i in range(1, 10):\n",
    "    curr_t += t_inc # it is now the end of the interval\n",
    "\n",
    "    w_s_skew = get_skew(w_0_1)\n",
    "    V_s_skwq = np.eye(4)\n",
    "    \n",
    "    V_s_skwq[0:3, 0:3] = w_s_skew * curr_t\n",
    "    T_s_b[i] = sp.linalg.expm(V_s_skwq) @ T_s_b[0]\n",
    "\n",
    "ans = T_s_b[-1][0:3, 0:3]\n",
    "ans\n"
   ]
  },
  {
   "attachments": {},
   "cell_type": "markdown",
   "metadata": {},
   "source": [
    "# 5.2"
   ]
  },
  {
   "attachments": {},
   "cell_type": "markdown",
   "metadata": {},
   "source": [
    "[![image.png](https://i.postimg.cc/4NHF5ZPm/image.png)](https://postimg.cc/svycjktr)\n",
    "\n",
    "[![image.png](https://i.postimg.cc/DZy0gMtN/image.png)](https://postimg.cc/HJRTWBW0)"
   ]
  },
  {
   "cell_type": "code",
   "execution_count": 18,
   "metadata": {},
   "outputs": [],
   "source": [
    "R_0_1_after_motion = R = np.array([[-0.62306271, -0.78162272, -0.02930497], \n",
    "                                   [0.01270142, 0.02735061, -0.99954521], \n",
    "                                   [0.78206876, -0.62315156, -0.00711342]])"
   ]
  },
  {
   "cell_type": "code",
   "execution_count": 23,
   "metadata": {},
   "outputs": [
    {
     "data": {
      "text/plain": [
       "array([[-2.90679742e-10, -1.66036524e+00, -1.69600374e+00],\n",
       "       [ 1.66036524e+00, -4.57894300e-11, -7.86770657e-01],\n",
       "       [ 1.69600375e+00,  7.86770655e-01,  1.02830907e-08]])"
      ]
     },
     "execution_count": 23,
     "metadata": {},
     "output_type": "execute_result"
    }
   ],
   "source": [
    "# * take the log of the matrix, it is defined differently than the log of a number\n",
    "w_skew = sp.linalg.logm(R_0_1_after_motion)\n",
    "w_skew"
   ]
  },
  {
   "cell_type": "code",
   "execution_count": 20,
   "metadata": {},
   "outputs": [
    {
     "data": {
      "text/plain": [
       "2.500449855782789"
      ]
     },
     "execution_count": 20,
     "metadata": {},
     "output_type": "execute_result"
    }
   ],
   "source": [
    "w_t = get_w_from_skew(w_skew)\n",
    "\n",
    "# ! We have w*time from the prior simplification\n",
    "# ! we need to get time from w*time\n",
    "# ! we know that norm of w is 1 (magnitude of w is 1) so norm(w*time) = time\n",
    "theta = get_time_from_w_time(w_t)\n",
    "\n",
    "theta"
   ]
  },
  {
   "cell_type": "code",
   "execution_count": 24,
   "metadata": {},
   "outputs": [
    {
     "data": {
      "text/plain": [
       "array([[ 0.31465164],\n",
       "       [-0.67827944],\n",
       "       [ 0.66402661]])"
      ]
     },
     "execution_count": 24,
     "metadata": {},
     "output_type": "execute_result"
    }
   ],
   "source": [
    "w = w_t / theta\n",
    "w"
   ]
  },
  {
   "attachments": {},
   "cell_type": "markdown",
   "metadata": {},
   "source": [
    "# 5.3"
   ]
  },
  {
   "attachments": {},
   "cell_type": "markdown",
   "metadata": {},
   "source": [
    "[![image.png](https://i.postimg.cc/m25xV87g/image.png)](https://postimg.cc/JGZdz3Tf)"
   ]
  },
  {
   "cell_type": "code",
   "execution_count": 100,
   "metadata": {},
   "outputs": [],
   "source": [
    "R_0_1 = R_1in0 = np.array([[0.98651331, -0.00862374, 0.16345371], [-0.02207429, 0.98247873, 0.18506290], [-0.16218573, -0.18617513, 0.96903798]])\n",
    "\n",
    "R_0_2 = R_2in0 = np.array([[-0.58487875, -0.61794938, 0.52540976], [-0.70121753, 0.71079190, 0.05539711], [-0.40768961, -0.33602594, -0.84904402]])"
   ]
  },
  {
   "cell_type": "code",
   "execution_count": 101,
   "metadata": {},
   "outputs": [],
   "source": [
    "# R_0_1 = A * R_0_2\n",
    "# R_0_2^-1 * A = R_0_2^-1 * R_0_1\n",
    "# A = R_0_2^-1 * R_0_1\n",
    "\n",
    "rotation_matrix = R_0_1 @ R_0_2.T\n",
    "# * take the log of the matrix, it is defined differently than the log of a number\n",
    "w_skew = sp.linalg.logm(rotation_matrix)"
   ]
  },
  {
   "cell_type": "code",
   "execution_count": 102,
   "metadata": {},
   "outputs": [
    {
     "data": {
      "text/plain": [
       "2.3860415193477187"
      ]
     },
     "execution_count": 102,
     "metadata": {},
     "output_type": "execute_result"
    }
   ],
   "source": [
    "w_t = get_w_from_skew(w_skew)\n",
    "\n",
    "# ! We have w*time from the prior simplification\n",
    "# ! we need to get time from w*time\n",
    "# ! we know that norm of w is 1 (magnitude of w is 1) so norm(w*time) = time\n",
    "theta = get_time_from_w_time(w_t)\n",
    "theta"
   ]
  },
  {
   "cell_type": "code",
   "execution_count": 103,
   "metadata": {},
   "outputs": [
    {
     "data": {
      "text/plain": [
       "array([[ 0.37432592],\n",
       "       [-0.91668301],\n",
       "       [ 0.13990126]])"
      ]
     },
     "execution_count": 103,
     "metadata": {},
     "output_type": "execute_result"
    }
   ],
   "source": [
    "w = w_t / theta\n",
    "w"
   ]
  },
  {
   "attachments": {},
   "cell_type": "markdown",
   "metadata": {},
   "source": [
    "[![image.png](https://i.postimg.cc/2jLnV5T9/image.png)](https://postimg.cc/z35yQ8sT)"
   ]
  },
  {
   "cell_type": "code",
   "execution_count": 104,
   "metadata": {},
   "outputs": [],
   "source": [
    "R_0_1 = R_1in0 = np.array([[0.72144568, -0.37900160, 0.57954630], [0.33814942, 0.92317263, 0.18277654], [-0.60429388, 0.06410991, 0.79417808]])\n",
    "\n",
    "R_0_2 = R_2in0 = np.array([[-0.90665973, -0.37500351, -0.19323692], [0.03568395, -0.52458748, 0.85060839], [-0.42035080, 0.76431691, 0.48900395]])"
   ]
  },
  {
   "cell_type": "code",
   "execution_count": 105,
   "metadata": {},
   "outputs": [],
   "source": [
    "# R_0_1 = A * R_0_2\n",
    "# R_0_2^-1 * A = R_0_2^-1 * R_0_1\n",
    "# A = R_0_2^-1 * R_0_1\n",
    "\n",
    "rotation_matrix = R_0_1 @ R_0_2.T \n",
    "# * take the log of the matrix, it is defined differently than the log of a number\n",
    "w_skew = sp.linalg.logm(rotation_matrix)"
   ]
  },
  {
   "cell_type": "code",
   "execution_count": 106,
   "metadata": {},
   "outputs": [
    {
     "data": {
      "text/plain": [
       "2.2455075509614613"
      ]
     },
     "execution_count": 106,
     "metadata": {},
     "output_type": "execute_result"
    }
   ],
   "source": [
    "w_t = get_w_from_skew(w_skew) \n",
    "\n",
    "# ! We have w*time from the prior simplification\n",
    "# ! we need to get time from w*time\n",
    "# ! we know that norm of w is 1 (magnitude of w is 1) so norm(w*time) = time\n",
    "theta = get_time_from_w_time(w_t)\n",
    "theta"
   ]
  },
  {
   "cell_type": "code",
   "execution_count": 107,
   "metadata": {},
   "outputs": [
    {
     "data": {
      "text/plain": [
       "array([[ 0.38165294],\n",
       "       [-0.45171891],\n",
       "       [-0.80640626]])"
      ]
     },
     "execution_count": 107,
     "metadata": {},
     "output_type": "execute_result"
    }
   ],
   "source": [
    "w = w_t / theta\n",
    "w =  R_0_2.T @ w\n",
    "w"
   ]
  },
  {
   "attachments": {},
   "cell_type": "markdown",
   "metadata": {},
   "source": [
    "# 5.4"
   ]
  },
  {
   "cell_type": "code",
   "execution_count": 108,
   "metadata": {},
   "outputs": [],
   "source": [
    "import numpy as np\n",
    "\n",
    "R_0_1 = R01 = np.array([[-0.186832403033, -0.947032489617, 0.261195552769], [-0.192194961728, 0.295975556200, 0.935659963244], [-0.963407883434, 0.124611130087, -0.237312697501]])\n",
    "\n",
    "w_0 = w0 = np.array([[-2.590000000000], [0.070000000000], [-1.620000000000]])\n",
    "\n",
    "final_time = t = 10.370000000000\n",
    "\n",
    "p_1_1 =p1 = np.array([[-3.130000000000], [1.860000000000], [2.000000000000]])"
   ]
  },
  {
   "cell_type": "code",
   "execution_count": 109,
   "metadata": {},
   "outputs": [
    {
     "data": {
      "text/plain": [
       "array([[ 5.09199886],\n",
       "       [ 8.2410529 ],\n",
       "       [-7.78481688]])"
      ]
     },
     "execution_count": 109,
     "metadata": {},
     "output_type": "execute_result"
    }
   ],
   "source": [
    "# [[5.52683078305], [-3.71729696938], [0.379095390703]]\n",
    "\n",
    "p_0_initial = R_0_1 @ p_1_1\n",
    "\n",
    "\n",
    "w_skew = np.zeros((4, 4))\n",
    "\n",
    "w_0_skew = get_skew(w_0)\n",
    "\n",
    "linear_veloctiy_of_point = w_0_skew @ p_0_initial\n",
    "\n",
    "\n",
    "linear_veloctiy_of_point\n",
    "\n",
    "# w_skew[0:4, 3]\n",
    "\n"
   ]
  },
  {
   "cell_type": "code",
   "execution_count": 110,
   "metadata": {},
   "outputs": [
    {
     "data": {
      "text/plain": [
       "array([[ 48.35409166],\n",
       "       [-32.9128185 ],\n",
       "       [114.91132465]])"
      ]
     },
     "execution_count": 110,
     "metadata": {},
     "output_type": "execute_result"
    }
   ],
   "source": [
    "w_skew[0:3, 3] = [linear_veloctiy_of_point[0][0], linear_veloctiy_of_point[1][0], linear_veloctiy_of_point[2][0]]\n",
    "\n",
    "\n",
    "# p_0_0_final = \n",
    "\n",
    "p_0_initial = np.array([p_0_initial[0], p_0_initial[1], p_0_initial[2], [1]])\n",
    "\n",
    "ans = sp.linalg.expm(w_skew * final_time) @ p_0_initial\n",
    "ans = R_0_1.T @ ans[0:3]\n",
    "ans\n"
   ]
  },
  {
   "attachments": {},
   "cell_type": "markdown",
   "metadata": {},
   "source": [
    "# 5.5"
   ]
  },
  {
   "cell_type": "markdown",
   "metadata": {},
   "source": [
    "[![image.png](https://i.postimg.cc/vBZqHsNX/image.png)](https://postimg.cc/t18t2LyV)"
   ]
  },
  {
   "cell_type": "code",
   "execution_count": 111,
   "metadata": {},
   "outputs": [],
   "source": [
    "V_sbinb = np.array([[-7], [ 8], [-7], [ 7], [-7], [-4]])"
   ]
  },
  {
   "cell_type": "code",
   "execution_count": 112,
   "metadata": {},
   "outputs": [
    {
     "data": {
      "text/plain": [
       "array([[-7],\n",
       "       [ 8],\n",
       "       [-7]])"
      ]
     },
     "execution_count": 112,
     "metadata": {},
     "output_type": "execute_result"
    }
   ],
   "source": [
    "# angular velocity of the body frame in the space frame\n",
    "w_sbinb = V_sbinb[:3][:3]\n",
    "w_sbinb\n"
   ]
  },
  {
   "cell_type": "code",
   "execution_count": 113,
   "metadata": {},
   "outputs": [
    {
     "data": {
      "text/plain": [
       "array([[ 7],\n",
       "       [-7],\n",
       "       [-4]])"
      ]
     },
     "execution_count": 113,
     "metadata": {},
     "output_type": "execute_result"
    }
   ],
   "source": [
    "# Translation velocity of the body frame in the space frame\n",
    "v_sbinb = V_sbinb[3:][:3]\n",
    "v_sbinb"
   ]
  },
  {
   "cell_type": "code",
   "execution_count": 114,
   "metadata": {},
   "outputs": [],
   "source": [
    "V_sbinb = np.array([[-5], [ 0], [-1], [-8], [-6], [ 1]])"
   ]
  },
  {
   "cell_type": "code",
   "execution_count": 115,
   "metadata": {},
   "outputs": [
    {
     "data": {
      "text/plain": [
       "array([[-5],\n",
       "       [ 0],\n",
       "       [-1]])"
      ]
     },
     "execution_count": 115,
     "metadata": {},
     "output_type": "execute_result"
    }
   ],
   "source": [
    "# angular velocity of the body frame in the space frame\n",
    "w_sbinb = V_sbinb[:3][:3]\n",
    "w_sbinb\n"
   ]
  },
  {
   "cell_type": "code",
   "execution_count": 116,
   "metadata": {},
   "outputs": [
    {
     "data": {
      "text/plain": [
       "array([[-8],\n",
       "       [-6],\n",
       "       [ 1]])"
      ]
     },
     "execution_count": 116,
     "metadata": {},
     "output_type": "execute_result"
    }
   ],
   "source": [
    "# Translation velocity of the body frame in the space frame\n",
    "v_sbinb = V_sbinb[3:][:3]\n",
    "v_sbinb"
   ]
  },
  {
   "attachments": {},
   "cell_type": "markdown",
   "metadata": {},
   "source": [
    "# 5.6"
   ]
  },
  {
   "attachments": {},
   "cell_type": "markdown",
   "metadata": {},
   "source": [
    "[![image.png](https://i.postimg.cc/Y0KxLL2r/image.png)](https://postimg.cc/cgh3VH82)"
   ]
  },
  {
   "attachments": {},
   "cell_type": "markdown",
   "metadata": {},
   "source": [
    "[![image.png](https://i.postimg.cc/Y0vw0V9K/image.png)](https://postimg.cc/hQRY32Tp)"
   ]
  },
  {
   "cell_type": "code",
   "execution_count": 117,
   "metadata": {},
   "outputs": [],
   "source": [
    "V = np.array([[ 3], [ 4], [-2], [-8], [ 4], [-9]])"
   ]
  },
  {
   "cell_type": "code",
   "execution_count": 118,
   "metadata": {},
   "outputs": [],
   "source": [
    "w, v = get_linear_angular_velocity_from_twist(V)\n",
    "w_skew = get_skew(w)"
   ]
  },
  {
   "cell_type": "code",
   "execution_count": 119,
   "metadata": {},
   "outputs": [
    {
     "data": {
      "text/plain": [
       "array([[ 0.,  2.,  4., -8.],\n",
       "       [-2.,  0., -3.,  4.],\n",
       "       [-4.,  3.,  0., -9.],\n",
       "       [ 0.,  0.,  0.,  0.]])"
      ]
     },
     "execution_count": 119,
     "metadata": {},
     "output_type": "execute_result"
    }
   ],
   "source": [
    "twist_skew = np.zeros((4, 4))\n",
    "\n",
    "twist_skew[0:3, 0:3] = w_skew\n",
    "twist_skew[:3, -1] = v.T\n",
    "\n",
    "twist_skew"
   ]
  },
  {
   "attachments": {},
   "cell_type": "markdown",
   "metadata": {},
   "source": [
    "[![image.png](https://i.postimg.cc/4xNjxqF8/image.png)](https://postimg.cc/0bFVtWvm)"
   ]
  },
  {
   "cell_type": "code",
   "execution_count": 120,
   "metadata": {},
   "outputs": [],
   "source": [
    "V = np.array([[ 2], [-3], [ 4], [-7], [ 6], [-5]])"
   ]
  },
  {
   "cell_type": "code",
   "execution_count": 121,
   "metadata": {},
   "outputs": [
    {
     "data": {
      "text/plain": [
       "array([[ 0., -4., -3., -7.],\n",
       "       [ 4.,  0., -2.,  6.],\n",
       "       [ 3.,  2.,  0., -5.],\n",
       "       [ 0.,  0.,  0.,  0.]])"
      ]
     },
     "execution_count": 121,
     "metadata": {},
     "output_type": "execute_result"
    }
   ],
   "source": [
    "get_twist_skew(V)"
   ]
  }
 ],
 "metadata": {
  "kernelspec": {
   "display_name": "manipulation_and_locomotion_class_work",
   "language": "python",
   "name": "python3"
  },
  "language_info": {
   "codemirror_mode": {
    "name": "ipython",
    "version": 3
   },
   "file_extension": ".py",
   "mimetype": "text/x-python",
   "name": "python",
   "nbconvert_exporter": "python",
   "pygments_lexer": "ipython3",
   "version": "3.8.16"
  },
  "orig_nbformat": 4
 },
 "nbformat": 4,
 "nbformat_minor": 2
}
