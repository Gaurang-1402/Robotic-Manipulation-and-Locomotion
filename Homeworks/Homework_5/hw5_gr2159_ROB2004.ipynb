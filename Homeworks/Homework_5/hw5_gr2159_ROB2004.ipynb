{
 "cells": [
  {
   "cell_type": "code",
   "execution_count": 9,
   "metadata": {},
   "outputs": [],
   "source": [
    "import numpy as np \n",
    "import scipy as sp"
   ]
  },
  {
   "cell_type": "code",
   "execution_count": 59,
   "metadata": {},
   "outputs": [],
   "source": [
    "import numpy as np\n",
    "\n",
    "get_skew = lambda a: np.array([[ 0, -a[2, 0], a[1, 0]], [a[2, 0], 0, -a[0, 0]], [-a[1, 0], a[0, 0], 0]])\n",
    "\n",
    "def get_w_from_skew(skew):\n",
    "    return np.array([[skew[2, 1]], [skew[0, 2]], [skew[1, 0]]])\n",
    "\n",
    "get_linear_angular_velocity_from_twist = lambda twist: (twist[:3][:3], twist[3:][:3])\n",
    "\n",
    "create_twist_from_linear_angular_velocity = lambda linear_velocity, angular_velocity: np.vstack((linear_velocity, angular_velocity))\n",
    "\n",
    "# Define the rotation matrices for each axis\n",
    "\n",
    "def get_x_rotation_matrix(theta, is_hybrid = False):\n",
    "    \n",
    "    if is_hybrid:\n",
    "        return np.array([\n",
    "            [1, 0, 0, 0],\n",
    "            [0, np.cos(theta), -np.sin(theta), 0],\n",
    "            [0, np.sin(theta), np.cos(theta), 0],\n",
    "            [0, 0, 0, 1]\n",
    "        ])\n",
    "    else:\n",
    "        return np.array([[1, 0, 0],\n",
    "                        [0, np.cos(theta), -np.sin(theta)],\n",
    "                        [0, np.sin(theta), np.cos(theta)]])\n",
    "    \n",
    "def get_y_rotation_matrix(theta, is_hybrid = False):\n",
    "    if is_hybrid:\n",
    "        return np.array([\n",
    "        [np.cos(theta), 0, np.sin(theta), 0],\n",
    "        [0, 1, 0, 0],\n",
    "        [-np.sin(theta), 0, np.cos(theta), 0],\n",
    "        [0, 0, 0, 1]\n",
    "    ])\n",
    "    else:\n",
    "        return np.array([[np.cos(theta), 0, np.sin(theta)],\n",
    "               [0, 1, 0],\n",
    "               [-np.sin(theta), 0, np.cos(theta)]])\n",
    "    \n",
    "def get_z_rotation_matrix(theta, is_hybrid = False):\n",
    "    if is_hybrid:\n",
    "        return np.array([\n",
    "            [np.cos(theta), -np.sin(theta), 0, 0],\n",
    "            [np.sin(theta), np.cos(theta), 0, 0],\n",
    "            [0, 0, 1, 0],\n",
    "            [0, 0, 0, 1]\n",
    "        ])\n",
    "    else:      \n",
    "        return np.array([[np.cos(theta), -np.sin(theta), 0],\n",
    "                [np.sin(theta), np.cos(theta), 0],\n",
    "                [0, 0, 1]])"
   ]
  },
  {
   "attachments": {},
   "cell_type": "markdown",
   "metadata": {},
   "source": [
    "# 5.1"
   ]
  },
  {
   "attachments": {},
   "cell_type": "markdown",
   "metadata": {},
   "source": [
    "[![image.png](https://i.postimg.cc/wvb8dyZ2/image.png)](https://postimg.cc/2bvXQ6zL)"
   ]
  },
  {
   "cell_type": "code",
   "execution_count": 47,
   "metadata": {},
   "outputs": [],
   "source": [
    "\n",
    "w_0_1 = w01 = np.array([[-2.53], [-0.90], [1.64]])\n",
    "\n",
    "final_time = t = 8.00"
   ]
  },
  {
   "attachments": {},
   "cell_type": "markdown",
   "metadata": {},
   "source": [
    "Both General case and Special case give the same answer, the only thing that is different is the rigour"
   ]
  },
  {
   "attachments": {},
   "cell_type": "markdown",
   "metadata": {},
   "source": [
    "### Special case based on the info in the question T_s_b[0] = $I$"
   ]
  },
  {
   "cell_type": "code",
   "execution_count": 50,
   "metadata": {},
   "outputs": [
    {
     "data": {
      "text/plain": [
       "array([[ 0.99972697, -0.02030428, -0.01156379],\n",
       "       [ 0.02065957,  0.99929078,  0.03148196],\n",
       "       [ 0.01091637, -0.03171226,  0.99943742]])"
      ]
     },
     "execution_count": 50,
     "metadata": {},
     "output_type": "execute_result"
    }
   ],
   "source": [
    "# T_s_b[t] = e^([V_s] * t) * T_s_b[0] \n",
    "\n",
    "# T_s_b[0] = I so\n",
    "\n",
    "# T_s_b[t] = e^([V_s] * t)\n",
    "\n",
    "w_s_skew = get_skew(w01)\n",
    "V_s_skwq = np.eye(4)\n",
    "V_s_skwq[0:3, 0:3] = w_s_skew * t\n",
    "V_s_skwq[3, 3] = 0\n",
    "\n",
    "ans = sp.linalg.expm(V_s_skwq)[0:3, 0:3]\n",
    "ans"
   ]
  },
  {
   "attachments": {},
   "cell_type": "markdown",
   "metadata": {},
   "source": [
    "### General case makes no assumptions\n",
    "\n",
    "[![image.png](https://i.postimg.cc/Gh4MfSbZ/image.png)](https://postimg.cc/TpXqL0L9)"
   ]
  },
  {
   "cell_type": "code",
   "execution_count": 51,
   "metadata": {},
   "outputs": [
    {
     "data": {
      "text/plain": [
       "array([[ 0.99972697, -0.02030428, -0.01156379],\n",
       "       [ 0.02065957,  0.99929078,  0.03148196],\n",
       "       [ 0.01091637, -0.03171226,  0.99943742]])"
      ]
     },
     "execution_count": 51,
     "metadata": {},
     "output_type": "execute_result"
    }
   ],
   "source": [
    "T_s_b = [0 for i in range(10)] \n",
    "\n",
    "t_inc = final_time / 10\n",
    "\n",
    "curr_t = 0\n",
    "\n",
    "curr_t += t_inc\n",
    "\n",
    "T_s_b[0] = np.eye(4)\n",
    "\n",
    "for i in range(1, 10):\n",
    "    curr_t += t_inc # it is now the end of the interval\n",
    "\n",
    "    w_s_skew = get_skew(w_0_1)\n",
    "    V_s_skwq = np.eye(4)\n",
    "    \n",
    "    V_s_skwq[0:3, 0:3] = w_s_skew * curr_t\n",
    "    T_s_b[i] = sp.linalg.expm(V_s_skwq) @ T_s_b[0]\n",
    "\n",
    "ans = T_s_b[-1][0:3, 0:3]\n",
    "ans\n"
   ]
  },
  {
   "attachments": {},
   "cell_type": "markdown",
   "metadata": {},
   "source": [
    "# 5.2"
   ]
  },
  {
   "attachments": {},
   "cell_type": "markdown",
   "metadata": {},
   "source": [
    "[![image.png](https://i.postimg.cc/DZy0gMtN/image.png)](https://postimg.cc/HJRTWBW0)"
   ]
  },
  {
   "cell_type": "code",
   "execution_count": 69,
   "metadata": {},
   "outputs": [],
   "source": [
    "R_0_1_after_motion = R = np.array([[-0.20942517, 0.39494557, -0.89451612], \n",
    "                                   [-0.09943930, 0.90145748, 0.42129116], \n",
    "                                   [0.97275533, 0.17717903, -0.14951477]])"
   ]
  },
  {
   "cell_type": "code",
   "execution_count": 70,
   "metadata": {},
   "outputs": [
    {
     "data": {
      "text/plain": [
       "array([[-2.97065966e-09,  4.57465808e-01, -1.72782965e+00],\n",
       "       [-4.57465812e-01,  1.05198118e-09,  2.25882626e-01],\n",
       "       [ 1.72782966e+00, -2.25882622e-01,  4.57962595e-09]])"
      ]
     },
     "execution_count": 70,
     "metadata": {},
     "output_type": "execute_result"
    }
   ],
   "source": [
    "w_skew = sp.linalg.logm(R_0_1_after_motion)\n",
    "w_skew"
   ]
  },
  {
   "cell_type": "code",
   "execution_count": 75,
   "metadata": {},
   "outputs": [
    {
     "data": {
      "text/plain": [
       "array([[-0.22588262],\n",
       "       [-1.72782965],\n",
       "       [-0.45746581]])"
      ]
     },
     "execution_count": 75,
     "metadata": {},
     "output_type": "execute_result"
    }
   ],
   "source": [
    "w_t = get_w_from_skew(w_skew)\n",
    "\n",
    "w_t\n",
    "\n",
    "# R_0_1_after_motion = e^([w]*t)"
   ]
  },
  {
   "cell_type": "code",
   "execution_count": 76,
   "metadata": {},
   "outputs": [
    {
     "data": {
      "text/plain": [
       "array([[-0.22588262],\n",
       "       [-1.72782965],\n",
       "       [-0.45746581]])"
      ]
     },
     "execution_count": 76,
     "metadata": {},
     "output_type": "execute_result"
    }
   ],
   "source": [
    "a = np.array([[-0.125380237784], [-0.959063112855], [-0.253924676891]]) * 1.80158076129\n",
    "\n",
    "a"
   ]
  },
  {
   "attachments": {},
   "cell_type": "markdown",
   "metadata": {},
   "source": [
    "# 5.3"
   ]
  },
  {
   "cell_type": "code",
   "execution_count": 80,
   "metadata": {},
   "outputs": [],
   "source": [
    "R_1in0 = np.array([[-0.51946552, -0.21121293, -0.82797625], \n",
    "                   [-0.23026763, -0.89852233, 0.37367693], \n",
    "                   [-0.82288055, 0.38476841, 0.41811586]]) \n",
    "\n",
    "R_2in0 = np.array([[-0.25366003, 0.24947997, -0.93456746], \n",
    "                   [-0.65832404, -0.75240807, -0.02217095], \n",
    "                   [-0.70870731, 0.60962434, 0.35509451]])"
   ]
  },
  {
   "cell_type": "code",
   "execution_count": null,
   "metadata": {},
   "outputs": [],
   "source": []
  },
  {
   "attachments": {},
   "cell_type": "markdown",
   "metadata": {},
   "source": [
    "# 5.4"
   ]
  },
  {
   "cell_type": "code",
   "execution_count": 126,
   "metadata": {},
   "outputs": [],
   "source": [
    "import numpy as np\n",
    "\n",
    "R_0_1 = R01 = R01 = np.array([[-0.380464043808, -0.770372041511, 0.511638572653], \n",
    "                              [0.785590490188, 0.022681275867, 0.618330931986], \n",
    "                              [-0.487949478014, 0.637191083885, 0.596567539783]])\n",
    "\n",
    "w_0 = w0 = np.array([[2.640000000000], [-0.950000000000], [-2.920000000000]])\n",
    "\n",
    "final_time = t = 9.850000000000\n",
    "\n",
    "p_1_1 = p1 = np.array([[2.740000000000], [-1.960000000000], [2.840000000000]])"
   ]
  },
  {
   "cell_type": "code",
   "execution_count": null,
   "metadata": {},
   "outputs": [],
   "source": []
  },
  {
   "cell_type": "code",
   "execution_count": null,
   "metadata": {},
   "outputs": [],
   "source": []
  },
  {
   "cell_type": "code",
   "execution_count": 128,
   "metadata": {},
   "outputs": [
    {
     "data": {
      "text/plain": [
       "array([[12.13028074],\n",
       "       [-3.2540048 ],\n",
       "       [12.02576908]])"
      ]
     },
     "execution_count": 128,
     "metadata": {},
     "output_type": "execute_result"
    }
   ],
   "source": [
    "# [[5.52683078305], [-3.71729696938], [0.379095390703]]\n",
    "\n",
    "p_0_initial = R_0_1 @ p_1_1\n",
    "\n",
    "\n",
    "w_skew = np.zeros((4, 4))\n",
    "\n",
    "w_0_skew = get_skew(w_0)\n",
    "\n",
    "linear_veloctiy_of_point = w_0_skew @ p_0_initial\n",
    "\n",
    "\n",
    "linear_veloctiy_of_point\n",
    "\n",
    "# w_skew[0:4, 3]\n",
    "\n"
   ]
  },
  {
   "cell_type": "code",
   "execution_count": 136,
   "metadata": {},
   "outputs": [
    {
     "data": {
      "text/plain": [
       "array([[-125.6982735 ],\n",
       "       [ -19.25582464],\n",
       "       [ 114.81924405]])"
      ]
     },
     "execution_count": 136,
     "metadata": {},
     "output_type": "execute_result"
    }
   ],
   "source": [
    "w_skew[0:3, 3] = [linear_veloctiy_of_point[0][0], linear_veloctiy_of_point[1][0], linear_veloctiy_of_point[2][0]]\n",
    "\n",
    "\n",
    "# p_0_0_final = \n",
    "\n",
    "p_0_initial = np.array([p_0_initial[0], p_0_initial[1], p_0_initial[2], [1]])\n",
    "\n",
    "ans = sp.linalg.expm(w_skew * final_time) @ p_0_initial\n",
    "ans = R_0_1.T @ ans[0:3]\n",
    "ans\n"
   ]
  },
  {
   "attachments": {},
   "cell_type": "markdown",
   "metadata": {},
   "source": [
    "# 5.5"
   ]
  },
  {
   "cell_type": "markdown",
   "metadata": {},
   "source": [
    "[![image.png](https://i.postimg.cc/vBZqHsNX/image.png)](https://postimg.cc/t18t2LyV)"
   ]
  },
  {
   "cell_type": "code",
   "execution_count": 148,
   "metadata": {},
   "outputs": [],
   "source": [
    "V_sbinb = np.array([[-7], [ 8], [-7], [ 7], [-7], [-4]])"
   ]
  },
  {
   "cell_type": "code",
   "execution_count": 149,
   "metadata": {},
   "outputs": [
    {
     "data": {
      "text/plain": [
       "array([[-7],\n",
       "       [ 8],\n",
       "       [-7]])"
      ]
     },
     "execution_count": 149,
     "metadata": {},
     "output_type": "execute_result"
    }
   ],
   "source": [
    "# angular velocity of the body frame in the space frame\n",
    "w_sbinb = V_sbinb[:3][:3]\n",
    "w_sbinb\n"
   ]
  },
  {
   "cell_type": "code",
   "execution_count": 150,
   "metadata": {},
   "outputs": [
    {
     "data": {
      "text/plain": [
       "array([[ 7],\n",
       "       [-7],\n",
       "       [-4]])"
      ]
     },
     "execution_count": 150,
     "metadata": {},
     "output_type": "execute_result"
    }
   ],
   "source": [
    "# Translation velocity of the body frame in the space frame\n",
    "v_sbinb = V_sbinb[3:][:3]\n",
    "v_sbinb"
   ]
  },
  {
   "cell_type": "code",
   "execution_count": 151,
   "metadata": {},
   "outputs": [],
   "source": [
    "V_sbinb = np.array([[-5], [ 0], [-1], [-8], [-6], [ 1]])"
   ]
  },
  {
   "cell_type": "code",
   "execution_count": 152,
   "metadata": {},
   "outputs": [
    {
     "data": {
      "text/plain": [
       "array([[-5],\n",
       "       [ 0],\n",
       "       [-1]])"
      ]
     },
     "execution_count": 152,
     "metadata": {},
     "output_type": "execute_result"
    }
   ],
   "source": [
    "# angular velocity of the body frame in the space frame\n",
    "w_sbinb = V_sbinb[:3][:3]\n",
    "w_sbinb\n"
   ]
  },
  {
   "cell_type": "code",
   "execution_count": 153,
   "metadata": {},
   "outputs": [
    {
     "data": {
      "text/plain": [
       "array([[-8],\n",
       "       [-6],\n",
       "       [ 1]])"
      ]
     },
     "execution_count": 153,
     "metadata": {},
     "output_type": "execute_result"
    }
   ],
   "source": [
    "# Translation velocity of the body frame in the space frame\n",
    "v_sbinb = V_sbinb[3:][:3]\n",
    "v_sbinb"
   ]
  },
  {
   "attachments": {},
   "cell_type": "markdown",
   "metadata": {},
   "source": [
    "# 5.6"
   ]
  },
  {
   "cell_type": "code",
   "execution_count": 154,
   "metadata": {},
   "outputs": [],
   "source": [
    "V = np.array([[ 3], [ 4], [-2], [-8], [ 4], [-9]])"
   ]
  },
  {
   "cell_type": "code",
   "execution_count": null,
   "metadata": {},
   "outputs": [],
   "source": []
  }
 ],
 "metadata": {
  "kernelspec": {
   "display_name": "manipulation_and_locomotion_class_work",
   "language": "python",
   "name": "python3"
  },
  "language_info": {
   "codemirror_mode": {
    "name": "ipython",
    "version": 3
   },
   "file_extension": ".py",
   "mimetype": "text/x-python",
   "name": "python",
   "nbconvert_exporter": "python",
   "pygments_lexer": "ipython3",
   "version": "3.8.16"
  },
  "orig_nbformat": 4
 },
 "nbformat": 4,
 "nbformat_minor": 2
}
