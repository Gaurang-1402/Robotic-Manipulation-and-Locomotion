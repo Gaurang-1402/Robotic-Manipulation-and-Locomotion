{
 "cells": [
  {
   "cell_type": "code",
   "execution_count": 36,
   "metadata": {},
   "outputs": [],
   "source": [
    "import numpy as np\n",
    "\n",
    "get_skew = lambda a: np.array([[ 0, -a[2, 0], a[1, 0]], [a[2, 0], 0, -a[0, 0]], [-a[1, 0], a[0, 0], 0]])\n",
    "\n",
    "# Define the rotation matrices for each axis\n",
    "\n",
    "def get_x_rotation_matrix(theta, is_hybrid = False):\n",
    "    \n",
    "    if is_hybrid:\n",
    "        return np.array([\n",
    "            [1, 0, 0, 0],\n",
    "            [0, np.cos(theta), -np.sin(theta), 0],\n",
    "            [0, np.sin(theta), np.cos(theta), 0],\n",
    "            [0, 0, 0, 1]\n",
    "        ])\n",
    "    else:\n",
    "        return np.array([[1, 0, 0],\n",
    "                        [0, np.cos(theta), -np.sin(theta)],\n",
    "                        [0, np.sin(theta), np.cos(theta)]])\n",
    "    \n",
    "def get_y_rotation_matrix(theta, is_hybrid = False):\n",
    "    if is_hybrid:\n",
    "        return np.array([\n",
    "        [np.cos(theta), 0, np.sin(theta), 0],\n",
    "        [0, 1, 0, 0],\n",
    "        [-np.sin(theta), 0, np.cos(theta), 0],\n",
    "        [0, 0, 0, 1]\n",
    "    ])\n",
    "    else:\n",
    "        return np.array([[np.cos(theta), 0, np.sin(theta)],\n",
    "               [0, 1, 0],\n",
    "               [-np.sin(theta), 0, np.cos(theta)]])\n",
    "    \n",
    "def get_z_rotation_matrix(theta, is_hybrid = False):\n",
    "    if is_hybrid:\n",
    "        return np.array([\n",
    "            [np.cos(theta), -np.sin(theta), 0, 0],\n",
    "            [np.sin(theta), np.cos(theta), 0, 0],\n",
    "            [0, 0, 1, 0],\n",
    "            [0, 0, 0, 1]\n",
    "        ])\n",
    "    else:      \n",
    "        return np.array([[np.cos(theta), -np.sin(theta), 0],\n",
    "                [np.sin(theta), np.cos(theta), 0],\n",
    "                [0, 0, 1]])"
   ]
  },
  {
   "attachments": {},
   "cell_type": "markdown",
   "metadata": {},
   "source": [
    "## Q4.1"
   ]
  },
  {
   "attachments": {},
   "cell_type": "markdown",
   "metadata": {},
   "source": [
    "[![image.png](https://i.postimg.cc/8CtBNNFx/image.png)](https://postimg.cc/LqgZVd3V)"
   ]
  },
  {
   "cell_type": "code",
   "execution_count": 37,
   "metadata": {},
   "outputs": [
    {
     "data": {
      "text/plain": [
       "array([[ 0.79560162,  0.        ,  0.60582016,  0.37500649],\n",
       "       [ 0.60582016,  0.        , -0.79560162,  0.78196575],\n",
       "       [ 0.        ,  1.        ,  0.        , -0.12      ],\n",
       "       [ 0.        ,  0.        ,  0.        ,  1.        ]])"
      ]
     },
     "execution_count": 37,
     "metadata": {},
     "output_type": "execute_result"
    }
   ],
   "source": [
    "theta = np.array([[-0.12, -0.95, 0.03]])\n",
    "\n",
    "# translate about z\n",
    "joint_1 = np.array([\n",
    "    [1, 0, 0, -2],\n",
    "    [0, 1, 0, 2],\n",
    "    [0, 0, 1, theta[0, 0]],\n",
    "    [0, 0, 0, 1]\n",
    "])\n",
    "\n",
    "\n",
    "joint_2 = np.array([\n",
    "    [1, 0, 0, 0],\n",
    "    [0, 1, 0, 2],\n",
    "    [0, 0, 1, 0],\n",
    "    [0, 0, 0, 1]\n",
    "]) @ get_z_rotation_matrix(theta[0, 1], True)\n",
    "\n",
    "joint_3 = np.array([\n",
    "    [1, 0, 0, 2],\n",
    "    [0, 1, 0, 0],\n",
    "    [0, 0, 1, 0],\n",
    "    [0, 0, 0, 1]\n",
    "]) @ get_z_rotation_matrix(theta[0, 2], True)\n",
    "\n",
    "\n",
    "coordinate_transform = np.array([\n",
    "    [0, 0, 1, 0],\n",
    "    [1, 0, 0, 0],\n",
    "    [0, 1, 0, 0],\n",
    "    [0, 0, 0, 1]\n",
    "])\n",
    "\n",
    "translate_end = np.array([\n",
    "    [1, 0, 0, 0],\n",
    "    [0, 1, 0, 0],\n",
    "    [0, 0, 1, 2],\n",
    "    [0, 0, 0, 1]\n",
    "])\n",
    "\n",
    "T_0_1 = joint_1 @ joint_2 @ joint_3 @ coordinate_transform @ translate_end\n",
    "\n",
    "T_0_1\n",
    "\n"
   ]
  },
  {
   "attachments": {},
   "cell_type": "markdown",
   "metadata": {},
   "source": [
    "[![image.png](https://i.postimg.cc/VsWxbHSg/image.png)](https://postimg.cc/xqqxw53N)"
   ]
  },
  {
   "cell_type": "code",
   "execution_count": 38,
   "metadata": {},
   "outputs": [
    {
     "data": {
      "text/plain": [
       "array([[ 0.84190098,  0.        ,  0.53963205, -4.        ],\n",
       "       [-0.18503865, -0.93937271,  0.288686  , -5.75749085],\n",
       "       [ 0.50691562, -0.34289781, -0.7908588 , -0.41159123],\n",
       "       [ 0.        ,  0.        ,  0.        ,  1.        ]])"
      ]
     },
     "execution_count": 38,
     "metadata": {},
     "output_type": "execute_result"
    }
   ],
   "source": [
    "theta = np.array([[0.96, -0.35, 0.57]])\n",
    "\n",
    "# translate about z\n",
    "joint_1 = np.array([\n",
    "    [1, 0, 0, -2],\n",
    "    [0, 1, 0, 0],\n",
    "    [0, 0, 1, theta[0, 0]],\n",
    "    [0, 0, 0, 1]\n",
    "])\n",
    "\n",
    "# rotate about x\n",
    "# * give -theta because we are rotating about -x\n",
    "joint_2 = np.array([\n",
    "    [1, 0, 0, 0],\n",
    "    [0, 1, 0, -2],\n",
    "    [0, 0, 1, 0],\n",
    "    [0, 0, 0, 1]\n",
    "]) @ get_x_rotation_matrix( - theta[0, 1], True)\n",
    "\n",
    "# rotate about y\n",
    "# * give -theta because we are rotating about -y\n",
    "joint_3 = np.array([\n",
    "    [1, 0, 0, -2],\n",
    "    [0, 1, 0, -2],\n",
    "    [0, 0, 1, 0],\n",
    "    [0, 0, 0, 1]\n",
    "]) @ get_y_rotation_matrix(- theta[0, 2], True)\n",
    "\n",
    "coordinate_transform = np.array([\n",
    "    [1, 0, 0, 0],\n",
    "    [0, -1, 0, 0],\n",
    "    [0, 0, -1, 0],\n",
    "    [0, 0, 0, 1]\n",
    "])\n",
    "\n",
    "translate_end = np.array([\n",
    "    [1, 0, 0, 0],\n",
    "    [0, 1, 0, 2],\n",
    "    [0, 0, 1, 0],\n",
    "    [0, 0, 0, 1]\n",
    "])\n",
    "\n",
    "T_0_1 = joint_1 @ joint_2 @ joint_3 @ coordinate_transform @ translate_end\n",
    "\n",
    "T_0_1\n",
    "\n"
   ]
  },
  {
   "attachments": {},
   "cell_type": "markdown",
   "metadata": {},
   "source": [
    "[![image.png](https://i.postimg.cc/tTJyTfPv/image.png)](https://postimg.cc/DW9Rpxx1)"
   ]
  },
  {
   "cell_type": "code",
   "execution_count": 39,
   "metadata": {},
   "outputs": [
    {
     "data": {
      "text/plain": [
       "array([[-0.74779514, -0.45929683, -0.47942554,  0.0997947 ],\n",
       "       [-0.52336595,  0.85210802,  0.        ,  2.11952649],\n",
       "       [ 0.40852235,  0.250915  , -0.87758256, -0.05451809],\n",
       "       [ 0.        ,  0.        ,  0.        ,  1.        ]])"
      ]
     },
     "execution_count": 39,
     "metadata": {},
     "output_type": "execute_result"
    }
   ],
   "source": [
    "theta = np.array([[0.50, 0.43, 0.59]])\n",
    "\n",
    "# rotate about -z\n",
    "joint_1 = np.array([\n",
    "    [1, 0, 0, 0],\n",
    "    [0, 1, 0, 2],\n",
    "    [0, 0, 1, 0],\n",
    "    [0, 0, 0, 1]\n",
    "]) @ get_y_rotation_matrix(theta[0, 0], True)\n",
    "\n",
    "# translate about -x\n",
    "joint_2 = np.array([\n",
    "    [1, 0, 0, 0],\n",
    "    [0, 1, 0, 2],\n",
    "    [0, 0, 1, 0],\n",
    "    [0, 0, 0, 1]\n",
    "]) @ get_z_rotation_matrix( - theta[0, 1], True)\n",
    "\n",
    "# translate about z\n",
    "joint_3 = np.array([\n",
    "    [1, 0, 0, 2],\n",
    "    [0, 1, 0, 0],\n",
    "    [0, 0, 1, 0],\n",
    "    [0, 0, 0, 1]\n",
    "]) @ get_z_rotation_matrix( - theta[0, 2], True)\n",
    "\n",
    "coordinate_transform = np.array([\n",
    "    [0, -1, 0, 0],\n",
    "    [-1, 0, 0, 0],\n",
    "    [0, 0, -1, 0],\n",
    "    [0, 0, 0, 1]\n",
    "])\n",
    "\n",
    "translate_end = np.array([\n",
    "    [1, 0, 0, 2],\n",
    "    [0, 1, 0, 0],\n",
    "    [0, 0, 1, 0],\n",
    "    [0, 0, 0, 1]\n",
    "])\n",
    "\n",
    "T_0_1 = joint_1 @ joint_2 @ joint_3 @ coordinate_transform @ translate_end\n",
    "\n",
    "T_0_1\n",
    "\n"
   ]
  },
  {
   "attachments": {},
   "cell_type": "markdown",
   "metadata": {},
   "source": [
    "[![image.png](https://i.postimg.cc/wxPJ6YJP/image.png)](https://postimg.cc/hhLhrw2b)"
   ]
  },
  {
   "cell_type": "code",
   "execution_count": 40,
   "metadata": {},
   "outputs": [
    {
     "data": {
      "text/plain": [
       "array([[ 0.        , -0.36161543,  0.93232735,  5.55788556],\n",
       "       [-1.        ,  0.        ,  0.        , -0.76      ],\n",
       "       [ 0.        , -0.93232735, -0.36161543, -0.85857617],\n",
       "       [ 0.        ,  0.        ,  0.        ,  1.        ]])"
      ]
     },
     "execution_count": 40,
     "metadata": {},
     "output_type": "execute_result"
    }
   ],
   "source": [
    "theta = np.array([[0.97, 0.37, -0.76]])\n",
    "\n",
    "# rotate about -z\n",
    "joint_1 = np.array([\n",
    "    [1, 0, 0, theta[0, 0]],\n",
    "    [0, 1, 0, 0],\n",
    "    [0, 0, 1, -2],\n",
    "    [0, 0, 0, 1]\n",
    "])\n",
    "\n",
    "# translate about -x\n",
    "joint_2 = np.array([\n",
    "    [1, 0, 0, 2],\n",
    "    [0, 1, 0, 0],\n",
    "    [0, 0, 1, 0],\n",
    "    [0, 0, 0, 1]\n",
    "]) @ get_y_rotation_matrix(theta[0, 1], True)\n",
    "\n",
    "# translate about z\n",
    "joint_3 = np.array([\n",
    "    [1, 0, 0, 0],\n",
    "    [0, 1, 0, theta[0, 2]],\n",
    "    [0, 0, 1, 2],\n",
    "    [0, 0, 0, 1]\n",
    "])\n",
    "\n",
    "coordinate_transform = np.array([\n",
    "    [0, 0, 1, 0],\n",
    "    [-1, 0, 0, 0],\n",
    "    [0, -1, 0, 0],\n",
    "    [0, 0, 0, 1]\n",
    "])\n",
    "\n",
    "translate_end = np.array([\n",
    "    [1, 0, 0, 0],\n",
    "    [0, 1, 0, 0],\n",
    "    [0, 0, 1, 2],\n",
    "    [0, 0, 0, 1]\n",
    "])\n",
    "\n",
    "T_0_1 = joint_1 @ joint_2 @ joint_3 @ coordinate_transform @ translate_end\n",
    "\n",
    "T_0_1\n",
    "\n"
   ]
  }
 ],
 "metadata": {
  "kernelspec": {
   "display_name": "manipulation_and_locomotion_class_work",
   "language": "python",
   "name": "python3"
  },
  "language_info": {
   "codemirror_mode": {
    "name": "ipython",
    "version": 3
   },
   "file_extension": ".py",
   "mimetype": "text/x-python",
   "name": "python",
   "nbconvert_exporter": "python",
   "pygments_lexer": "ipython3",
   "version": "3.8.16"
  },
  "orig_nbformat": 4,
  "vscode": {
   "interpreter": {
    "hash": "e3d020f828c7b657823432f30379f5f035f7fc5e9ca5b3fc0a7e69cded9ebebc"
   }
  }
 },
 "nbformat": 4,
 "nbformat_minor": 2
}
