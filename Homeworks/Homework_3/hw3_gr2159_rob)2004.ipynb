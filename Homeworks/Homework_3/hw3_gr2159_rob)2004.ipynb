{
 "cells": [
  {
   "attachments": {},
   "cell_type": "markdown",
   "metadata": {},
   "source": [
    "## Q3.1"
   ]
  },
  {
   "attachments": {},
   "cell_type": "markdown",
   "metadata": {},
   "source": [
    "[![image.png](https://i.postimg.cc/VLwWWwSz/image.png)](https://postimg.cc/G9MDbZJf)"
   ]
  },
  {
   "cell_type": "code",
   "execution_count": 3,
   "metadata": {},
   "outputs": [
    {
     "data": {
      "text/plain": [
       "[[-7], [0], [-2]]"
      ]
     },
     "execution_count": 3,
     "metadata": {},
     "output_type": "execute_result"
    }
   ],
   "source": [
    "import numpy as np \n",
    "\n",
    "\n",
    "a_skew = np.array([[ 0, 2, 0], [-2, 0, 7], [ 0, -7, 0]])\n",
    "\n",
    "a = [[-a_skew[1, 2]], [-a_skew[2, 0]], [-a_skew[0, 1]]]\n",
    "a"
   ]
  },
  {
   "attachments": {},
   "cell_type": "markdown",
   "metadata": {},
   "source": [
    "## Q3.2"
   ]
  },
  {
   "attachments": {},
   "cell_type": "markdown",
   "metadata": {},
   "source": [
    "[![image.png](https://i.postimg.cc/T10LcZSP/image.png)](https://postimg.cc/ctKLx5dq)"
   ]
  },
  {
   "cell_type": "code",
   "execution_count": 4,
   "metadata": {},
   "outputs": [],
   "source": [
    "get_skew = lambda a: np.array([[ 0, -a[2, 0], a[1, 0]], [a[2, 0], 0, -a[0, 0]], [-a[1, 0], a[0, 0], 0]])"
   ]
  },
  {
   "cell_type": "code",
   "execution_count": 5,
   "metadata": {},
   "outputs": [
    {
     "data": {
      "text/plain": [
       "array([[  0,   8,  10],\n",
       "       [ -8,   0,  -3],\n",
       "       [-10,   3,   0]])"
      ]
     },
     "execution_count": 5,
     "metadata": {},
     "output_type": "execute_result"
    }
   ],
   "source": [
    "a = np.array([[ 3], [10], [-8]])\n",
    "\n",
    "a_skew = np.array([[ 0, -a[2, 0], a[1, 0]], [a[2, 0], 0, -a[0, 0]], [-a[1, 0], a[0, 0], 0]])\n",
    "a_skew"
   ]
  },
  {
   "attachments": {},
   "cell_type": "markdown",
   "metadata": {},
   "source": [
    "## Q3.3"
   ]
  },
  {
   "attachments": {},
   "cell_type": "markdown",
   "metadata": {},
   "source": [
    "[![image.png](https://i.postimg.cc/NGWYFNzh/image.png)](https://postimg.cc/Hj4FPtm3)"
   ]
  },
  {
   "cell_type": "code",
   "execution_count": 6,
   "metadata": {},
   "outputs": [
    {
     "data": {
      "text/plain": [
       "array([[ 0,  1,  4],\n",
       "       [-1,  0, -6],\n",
       "       [-4,  6,  0]])"
      ]
     },
     "execution_count": 6,
     "metadata": {},
     "output_type": "execute_result"
    }
   ],
   "source": [
    "a = v_in0 = np.array([[ 6], [ 4], [-1]])\n",
    "\n",
    "a_skew = np.array([[ 0, -a[2, 0], a[1, 0]], [a[2, 0], 0, -a[0, 0]], [-a[1, 0], a[0, 0], 0]])\n",
    "a_skew"
   ]
  },
  {
   "attachments": {},
   "cell_type": "markdown",
   "metadata": {},
   "source": [
    "## Q3.4\n",
    "[![image.png](https://i.postimg.cc/fTTFwYw4/image.png)](https://postimg.cc/142MBnnM)\n"
   ]
  },
  {
   "attachments": {},
   "cell_type": "markdown",
   "metadata": {},
   "source": [
    "[![image.png](https://i.postimg.cc/7LMbMFjT/image.png)](https://postimg.cc/4KyJXSfJ)"
   ]
  },
  {
   "cell_type": "code",
   "execution_count": 7,
   "metadata": {},
   "outputs": [
    {
     "data": {
      "text/plain": [
       "array([[-0.47508343, -0.74446402, -0.44981963],\n",
       "       [ 0.30328482, -0.81530661,  0.73212384],\n",
       "       [-0.36505201, -0.27458685, -0.44819815]])"
      ]
     },
     "execution_count": 7,
     "metadata": {},
     "output_type": "execute_result"
    }
   ],
   "source": [
    "\n",
    "import numpy as np \n",
    "\n",
    "R_a_b = R_1in0 = np.array([[0.70076858, -0.63892989, 0.31732002], [0.34844128, 0.69469195, 0.62927877], [-0.62250468, -0.33041139, 0.70944784]]) \n",
    "w_a_b_inb = w_01in1 = np.array([[-0.94409352], [0.21888815], [0.63485187]])\n",
    "\n",
    "skewed_w_a_b_inb = get_skew(w_a_b_inb)\n",
    "\n",
    "derivative_R_a_b = R_a_b @ skewed_w_a_b_inb\n",
    "derivative_R_a_b"
   ]
  },
  {
   "attachments": {},
   "cell_type": "markdown",
   "metadata": {},
   "source": [
    "## Q3.5"
   ]
  },
  {
   "attachments": {},
   "cell_type": "markdown",
   "metadata": {},
   "source": [
    "[![image.png](https://i.postimg.cc/gj2KvXyX/image.png)](https://postimg.cc/62FRKQmt)"
   ]
  },
  {
   "cell_type": "code",
   "execution_count": 8,
   "metadata": {},
   "outputs": [],
   "source": [
    "w_01in0= np.array([[-0.11062921], [-0.20253344],[-0.01132621]]) \n",
    "w_01in1 = np.array([[0.12523599], [-0.13345139], [-0.14104458]])"
   ]
  },
  {
   "cell_type": "code",
   "execution_count": 9,
   "metadata": {},
   "outputs": [
    {
     "data": {
      "text/plain": [
       "array([[ 0.        ,  0.01132621, -0.20253344],\n",
       "       [-0.01132621,  0.        ,  0.11062921],\n",
       "       [ 0.20253344, -0.11062921,  0.        ]])"
      ]
     },
     "execution_count": 9,
     "metadata": {},
     "output_type": "execute_result"
    }
   ],
   "source": [
    "# * Variant 1\n",
    "\n",
    "# ans = get_skew(w_01in0) @ R_1in0 @ w_01in1\n",
    "\n",
    "ans = get_skew(w_01in0)\n",
    "ans"
   ]
  },
  {
   "attachments": {},
   "cell_type": "markdown",
   "metadata": {},
   "source": [
    "[![image.png](https://i.postimg.cc/sDtYTD5L/image.png)](https://postimg.cc/4mQHdGLv)"
   ]
  },
  {
   "cell_type": "code",
   "execution_count": 10,
   "metadata": {},
   "outputs": [
    {
     "data": {
      "text/plain": [
       "array([[ 0.        ,  0.52523319, -0.20392308],\n",
       "       [-0.52523319,  0.        ,  0.17892696],\n",
       "       [ 0.20392308, -0.17892696,  0.        ]])"
      ]
     },
     "execution_count": 10,
     "metadata": {},
     "output_type": "execute_result"
    }
   ],
   "source": [
    "# * Variant 2\n",
    "\n",
    "w_01in0 = np.array([[-0.17892696], [-0.20392308], [-0.52523319]]) \n",
    "w_01in1 = np.array([[0.54566252], [-0.22322578], [0.04349771]])\n",
    "\n",
    "ans = get_skew(w_01in0)\n",
    "\n",
    "ans"
   ]
  },
  {
   "cell_type": "code",
   "execution_count": null,
   "metadata": {},
   "outputs": [],
   "source": []
  },
  {
   "attachments": {
    "image.png": {
     "image/png": "[encoded data removed]"
    }
   },
   "cell_type": "markdown",
   "metadata": {},
   "source": [
    "![image.png](attachment:image.png)"
   ]
  },
  {
   "cell_type": "code",
   "execution_count": 11,
   "metadata": {},
   "outputs": [],
   "source": [
    "# * Variant 3\n",
    "\n",
    "w_01in0 = np.array([[0.01003274], [1.03102582], [0.25131021]]) \n",
    "w_01in1 = np.array([[-0.41110940], [0.97818519], [0.02035955]])"
   ]
  },
  {
   "cell_type": "code",
   "execution_count": 12,
   "metadata": {},
   "outputs": [
    {
     "data": {
      "text/plain": [
       "array([[ 0.        , -0.02035955,  0.97818519],\n",
       "       [ 0.02035955,  0.        ,  0.4111094 ],\n",
       "       [-0.97818519, -0.4111094 ,  0.        ]])"
      ]
     },
     "execution_count": 12,
     "metadata": {},
     "output_type": "execute_result"
    }
   ],
   "source": [
    "ans = get_skew(w_01in1)\n",
    "\n",
    "ans\n"
   ]
  },
  {
   "attachments": {},
   "cell_type": "markdown",
   "metadata": {},
   "source": [
    "## Q3.6"
   ]
  },
  {
   "attachments": {},
   "cell_type": "markdown",
   "metadata": {},
   "source": [
    "[![image.png](https://i.postimg.cc/6qWtG42T/image.png)](https://postimg.cc/mz50vDSG)"
   ]
  },
  {
   "cell_type": "code",
   "execution_count": 13,
   "metadata": {},
   "outputs": [
    {
     "data": {
      "text/plain": [
       "array([[ 0.76397909],\n",
       "       [ 1.1820461 ],\n",
       "       [-0.19917111]])"
      ]
     },
     "execution_count": 13,
     "metadata": {},
     "output_type": "execute_result"
    }
   ],
   "source": [
    "# Variant 1\n",
    "# The orientation of frame 1 in the coordinates of frame 0 is:\n",
    "R_1in0 = np.array([[0.14819108, -0.21350096, 0.96563800], [0.02118237, 0.97688012, 0.21273583], [-0.98873187, -0.01107105, 0.14928738]])\n",
    "\n",
    "# The angular velocity of frame 1 with respect to frame 0 in the coordinates of frame 1 is:\n",
    "w_01in1 = np.array([[-0.33518025], [-0.99381211], [-0.95945707]])\n",
    "\n",
    "\n",
    "# angular velocity of frame 0 with respect to frame 1 in the coordinates of frame 0\n",
    "w_10in0 = -(R_1in0 @ w_01in1)\n",
    "\n",
    "w_10in0"
   ]
  },
  {
   "attachments": {},
   "cell_type": "markdown",
   "metadata": {},
   "source": [
    "[![image.png](https://i.postimg.cc/QCSqbw6h/image.png)](https://postimg.cc/xNJHjxD4)"
   ]
  },
  {
   "cell_type": "code",
   "execution_count": 14,
   "metadata": {},
   "outputs": [
    {
     "data": {
      "text/plain": [
       "array([[ 0.69274574],\n",
       "       [ 0.51057492],\n",
       "       [-0.2631815 ]])"
      ]
     },
     "execution_count": 14,
     "metadata": {},
     "output_type": "execute_result"
    }
   ],
   "source": [
    "# Variant 2\n",
    "\n",
    "# The orientation of frame 1 in the coordinates of frame 0 is\n",
    "R_1in0 = np.array([[0.95875904, 0.11728867, -0.25889084], [-0.07101838, 0.98084874, 0.18136188], [0.27520445, -0.15549633, 0.94872725]])\n",
    "\n",
    "# The angular velocity of frame 0 with respect to frame 1 in the coordinates of frame 0 is\n",
    "w_10in0 = np.array([[-0.79219618], [-0.40386800], [0.13843328]])\n",
    "\n",
    "# Find the angular velocity of frame 1 with respect to frame 0 in the coordinates of frame 1\n",
    "R_0in1 = R_1in0.T\n",
    "w01_in1 = -(R_0in1 @ w_10in0)\n",
    "\n",
    "w01_in1"
   ]
  },
  {
   "attachments": {},
   "cell_type": "markdown",
   "metadata": {},
   "source": [
    "## Q3.7"
   ]
  },
  {
   "attachments": {},
   "cell_type": "markdown",
   "metadata": {},
   "source": [
    "[![20230221-140745.jpg](https://i.postimg.cc/52JsV5Ch/20230221-140745.jpg)](https://postimg.cc/F7PybLGp)"
   ]
  },
  {
   "cell_type": "code",
   "execution_count": 24,
   "metadata": {},
   "outputs": [],
   "source": [
    "theta = 0.17"
   ]
  },
  {
   "cell_type": "code",
   "execution_count": 25,
   "metadata": {},
   "outputs": [
    {
     "data": {
      "text/plain": [
       "array([[ 0.98558477,  0.        ,  0.16918235,  3.97116953],\n",
       "       [ 0.        ,  1.        ,  0.        ,  0.        ],\n",
       "       [-0.16918235,  0.        ,  0.98558477, -0.3383647 ],\n",
       "       [ 0.        ,  0.        ,  0.        ,  1.        ]])"
      ]
     },
     "execution_count": 25,
     "metadata": {},
     "output_type": "execute_result"
    }
   ],
   "source": [
    "t_a = np.array([\n",
    "    [1, 0, 0, -4],\n",
    "    [0, 1, 0, 0],\n",
    "    [0, 0, 1, 0],\n",
    "    [0, 0, 0, 1]\n",
    "])\n",
    "\n",
    "rotate_theta_z = np.array([\n",
    "    [np.cos(theta), -np.sin(theta), 0, 0],\n",
    "    [np.sin(theta), np.cos(theta), 0, 0],\n",
    "    [0, 0, 1, 0],\n",
    "    [0, 0, 0, 1]\n",
    "])\n",
    "\n",
    "rotate_theta_y = np.array([\n",
    "    [np.cos(theta), 0, np.sin(theta), 0],\n",
    "    [0, 1, 0, 0],\n",
    "    [-np.sin(theta), 0, np.cos(theta), 0],\n",
    "    [0, 0, 0, 1]\n",
    "])\n",
    "\n",
    "rotate_theta_x = np.array([\n",
    "    [1, 0, 0, 0],\n",
    "    [0, np.cos(theta), -np.sin(theta), 0],\n",
    "    [0, np.sin(theta), np.cos(theta), 0],\n",
    "    [0, 0, 0, 1]\n",
    "])\n",
    "\n",
    "t_b = np.array([\n",
    "    [1, 0, 0, 0],\n",
    "    [0, 1, 0, 2],\n",
    "    [0, 0, 1, 0],\n",
    "    [0, 0, 0, 1]\n",
    "])\n",
    "\n",
    "R_10 = np.array([\n",
    "    [1, 0, 0, 0],\n",
    "    [0, -1, 0, 0],\n",
    "    [0, 0, -1, 0],\n",
    "    [0, 0, 0, 1],\n",
    "])\n",
    "\n",
    "t_01 = t_a @ t_b @ rotate_theta_z @ R_10\n",
    "\n",
    "t_01 = np.array([\n",
    "    [1, 0, 0, 0],\n",
    "    [0, 1, 0, 0],\n",
    "    [0, 0, 1, -2],\n",
    "    [0, 0, 0, 1]\n",
    "]) @ np.array([\n",
    "    [1, 0, 0, -4],\n",
    "    [0, 1, 0, 0],\n",
    "    [0, 0, 1, 0],\n",
    "    [0, 0, 0, 1]\n",
    "]) @  np.array([\n",
    "    [1, 0, 0, 0],\n",
    "    [0, -1, 0, 0],\n",
    "    [0, 0, -1, 0],\n",
    "    [0, 0, 0, 1],\n",
    "]) @ np.array([\n",
    "    [1, 0, 0, 0],\n",
    "    [0, 1, 0, 0.89],\n",
    "    [0, 0, 1, 0],\n",
    "    [0, 0, 0, 1]\n",
    "]) @ np.array([\n",
    "    [1, 0, 0, 0],\n",
    "    [0, 1, 0, 0],\n",
    "    [0, 0, 1, 2],\n",
    "    [0, 0, 0, 1]\n",
    "])\n",
    "\n",
    "\n",
    "t_01 = np.array([\n",
    "    [1, 0, 0, 2],\n",
    "    [0, 1, 0, 0],\n",
    "    [0, 0, 1, 0],\n",
    "    [0, 0, 0, 1]\n",
    "]) @ rotate_theta_y @ np.array([\n",
    "    [1, 0, 0, 2],\n",
    "    [0, 1, 0, 0],\n",
    "    [0, 0, 1, 0],\n",
    "    [0, 0, 0, 1]\n",
    "])\n",
    "    \n",
    "\n",
    "t_01"
   ]
  },
  {
   "cell_type": "code",
   "execution_count": 17,
   "metadata": {},
   "outputs": [
    {
     "name": "stdout",
     "output_type": "stream",
     "text": [
      "[[ 0  0  1 -4]\n",
      " [-1  0  0  0]\n",
      " [ 0 -1  0  0]\n",
      " [ 0  0  0  1]]\n"
     ]
    }
   ],
   "source": [
    "t_x = np.array([\n",
    "    [1, 0, 0, -4],\n",
    "    [0, 1, 0, 0],\n",
    "    [0, 0, 1, 0],\n",
    "    [0, 0, 0, 1]\n",
    "])\n",
    "\n",
    "\n",
    "t_y = np.array([\n",
    "    [1, 0, 0, 0],\n",
    "    [0, 1, 0, 0],\n",
    "    [0, 0, 1, 0],\n",
    "    [0, 0, 0, 1]\n",
    "])\n",
    "\n",
    "R_10 = np.array([\n",
    "    [0, 0, 1, 0],\n",
    "    [-1, 0, 0, 0],\n",
    "    [0, -1, 0, 0],\n",
    "    [0, 0, 0, 1],\n",
    "])\n",
    "\n",
    "t_01 = t_x @ t_y @ R_10\n",
    "\n",
    "print(t_01)\n",
    "\n",
    "# t_01 = np.dot(t_x, np.dot(t_y, R_10))\n",
    "# print(t_01)\n"
   ]
  },
  {
   "cell_type": "code",
   "execution_count": null,
   "metadata": {},
   "outputs": [],
   "source": []
  }
 ],
 "metadata": {
  "kernelspec": {
   "display_name": "robot_vision_class",
   "language": "python",
   "name": "python3"
  },
  "language_info": {
   "codemirror_mode": {
    "name": "ipython",
    "version": 3
   },
   "file_extension": ".py",
   "mimetype": "text/x-python",
   "name": "python",
   "nbconvert_exporter": "python",
   "pygments_lexer": "ipython3",
   "version": "3.8.8"
  },
  "orig_nbformat": 4,
  "vscode": {
   "interpreter": {
    "hash": "28a7dcf41b89ceea79881175bec7b6a3063007774e7dd4410f2273c31f9b85b5"
   }
  }
 },
 "nbformat": 4,
 "nbformat_minor": 2
}
