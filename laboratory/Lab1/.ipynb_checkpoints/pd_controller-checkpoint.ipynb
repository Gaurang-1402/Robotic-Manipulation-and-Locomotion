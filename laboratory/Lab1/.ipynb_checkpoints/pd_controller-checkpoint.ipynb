{
 "cells": [
  {
   "cell_type": "markdown",
   "metadata": {},
   "source": [
    "# Closing the loop with a Proportional-Derivative controller\n",
    "\n",
    "We have seen in the previous notebook how to do a simple control loop that read sensors and applied torque commands. However, we did not use the sensor measurements to compute the torque commands.\n",
    "\n",
    "<img src=\"images/control_loop.png\" width=600>\n",
    "\n",
    "Now we would like to do our first closed-loop controller. We will design a simple Proportional-Derivative (PD) position controller. The goal of the controller is to compute a command that will move the joints of the robot to a desired position.\n",
    "\n",
    "Assume that we want the first joint, with measurement position $\\theta$, to move to the desired position $\\theta_{des}$. The idea is to apply a command proportional to the error between the measured and desired position (the P in PD controller). The  error is\n",
    "$$\\textrm{error} = (\\theta_{des} - \\theta)$$  and\n",
    "the desired torque to apply to the join will be $\\tau = P \\cdot \\textrm{error} = P (\\theta_{des} - \\theta)$ where $P$ is a constant.\n",
    "\n",
    "However, when using only a term proportional to the position, the controller will tend to create oscillations and get easily unstable (you can try!). It is then a good idea to add a term proportional to the time derivative of the error (the D term), i.e. proportional to the velocity.\n",
    "The time derivative of the error is\n",
    "$$\\frac{d}{dt}\\textrm{error} = \\frac{d}{dt}(\\theta_{des} - \\theta) =  \\dot{\\theta}_{des} - \\dot{\\theta}$$\n",
    "\n",
    "So a PD controller takes the general form\n",
    "$\\tau = P (\\theta_{des} - \\theta) + D (\\dot{\\theta}_{des} - \\dot{\\theta})$\n",
    "where $P$ and $D$ are positive numbers called the **PD gains**\n",
    "Intuitively it applies a command that tries to follow at the same time a desired position and a desired velocity (which dampens fast oscillations).\n",
    "\n",
    "When we want to be in a static position, $\\dot{\\theta}_{des}$ will be 0, but if we want to follow a trajectory $\\theta_{des}(t)$ which varies over time, the derivative $\\dot{\\theta}_{des}(t)$ will not be 0 anymore."
   ]
  },
  {
   "cell_type": "code",
   "execution_count": 1,
   "metadata": {},
   "outputs": [
    {
     "name": "stderr",
     "output_type": "stream",
     "text": [
      "pybullet build time: Dec  1 2021 18:33:43\n"
     ]
    }
   ],
   "source": [
    "#setup nice plotting\n",
    "%matplotlib notebook\n",
    "\n",
    "# we import useful libraries including numpy for easy algebra and matplot for plotting\n",
    "import time\n",
    "import numpy as np\n",
    "import matplotlib as mp\n",
    "import matplotlib.pyplot as plt\n",
    "\n",
    "# we import the helper class to work with either the simulation or real robot\n",
    "use_real_robot = False\n",
    "\n",
    "if use_real_robot:\n",
    "    from nyu_finger import NYUFingerReal    \n",
    "else:\n",
    "    from nyu_finger_simulator import NYUFingerSimulator\n",
    "    \n"
   ]
  },
  {
   "cell_type": "code",
   "execution_count": 2,
   "metadata": {},
   "outputs": [],
   "source": [
    "## if we are using the real robot\n",
    "if use_real_robot:\n",
    "    # Triggers the real robot\n",
    "    # Don't forget to turn on the robot first !!!\n",
    "    robot = NYUFingerReal()\n",
    "    \n",
    "    # Make sure that the motor number matches that on the robot\n",
    "#     motor_number = np.array([0,1,2])\n",
    "    motor_number = np.array([1,2,3])\n",
    "    robot.initialize('eno1', motor_number)\n",
    "    \n",
    "## if we are using the simulation\n",
    "else:\n",
    "    # we can now create a robot simulation\n",
    "    robot = NYUFingerSimulator()"
   ]
  },
  {
   "cell_type": "code",
   "execution_count": null,
   "metadata": {},
   "outputs": [],
   "source": [
    "# here is an example of a simple PD controller\n",
    "\n",
    "# we reset the simulation\n",
    "if not use_real_robot:\n",
    "    robot.reset_state([0.,0.,0.])\n",
    "\n",
    "# we simulate for 5 seconds\n",
    "run_time = 15.\n",
    "dt = 0.001\n",
    "num_steps = int(run_time/dt)\n",
    "\n",
    "# the PD gains - they are constant so we define them outside the control loop\n",
    "# P = np.array([1.5, 1.5, 1.5])\n",
    "# D = np.array([0.01, 0.01, 0.01])\n",
    "\n",
    "# IDEAL\n",
    "P = np.array([1.5, 1.5, 1.5])\n",
    "D = np.array([0.1, 0.1, 0.1])\n",
    "\n",
    "# Increase P\n",
    "# P = np.array([500, 500, 500])\n",
    "# D = np.array([0.01, 0.01, 0.01])\n",
    "\n",
    "# Increase D\n",
    "# P = np.array([1.5, 1.5, 1.5])\n",
    "# D = np.array([5, 5, 5])\n",
    "\n",
    "# Decrease P\n",
    "# P = np.array([1, 1, 1])\n",
    "# D = np.array([0.01, 0.01, 0.01])\n",
    "\n",
    "# Decrease D\n",
    "# P = np.array([1.5, 1.5, 1.5])\n",
    "# D = np.array([0.005, 0.005, 0.005])\n",
    "\n",
    "# the desired position - also constants\n",
    "q_des = np.array([0.,0.,np.pi/2.])\n",
    "dq_des = np.zeros_like(q_des) # the desired velocity here is 0\n",
    "\n",
    "## we allocate a few vectors to collect data while we do the simulation\n",
    "measured_positions = np.zeros([num_steps,3])\n",
    "measured_velocities = np.zeros_like(measured_positions)\n",
    "desired_torques = np.zeros_like(measured_positions)\n",
    "time = np.zeros([num_steps])\n",
    "\n",
    "\n",
    "## this is our main control loop ##\n",
    "## we do the loop for num_steps ##\n",
    "for i in range(num_steps):\n",
    "    # get the current time\n",
    "    time[i] = dt * i\n",
    "    \n",
    "    # we read the position and velocities of the joints from the robot or simulation\n",
    "    q, dq = robot.get_state()\n",
    "    \n",
    "    # we store these values for later use\n",
    "    measured_positions[i,:] = q\n",
    "    measured_velocities[i,:] = dq\n",
    "    \n",
    "    q_des = np.array([0.8*np.sin(np.pi*time[i]),0.,0.8*np.sin(np.pi*time[i])])\n",
    "    dq_des = np.zeros_like(q_des) # the desired velocity here is 0\n",
    "    \n",
    "    error = q_des - q # the position error for all the joints (it's a 3D vector)\n",
    "    d_error = dq_des-dq # the velocity error for all the joints\n",
    "    \n",
    "    # we compute the desired torques as a PD controller\n",
    "    joint_torques = P * error + D * d_error\n",
    "    desired_torques[i,:] = joint_torques\n",
    "    \n",
    "    # we send them to the robot and do one simulation step\n",
    "    robot.send_joint_torque(joint_torques)\n",
    "    robot.step()    "
   ]
  },
  {
   "cell_type": "code",
   "execution_count": null,
   "metadata": {
    "scrolled": true
   },
   "outputs": [],
   "source": [
    "# we plot the measured position and velocities of all the joints\n",
    "# and add the desired values\n",
    "time = np.linspace(0., run_time, num=num_steps)\n",
    "joint_names = [\"HAA\", \"HFE\", \"KFE\"]\n",
    "plt.figure(figsize=[6, 12])\n",
    "for i in range(3):\n",
    "    plt.subplot(3,1,i+1)\n",
    "    plt.plot(time, measured_positions[:,i])\n",
    "    plt.plot(time, np.ones_like(time)*q_des[i],'--')\n",
    "    plt.ylabel(joint_names[i] + ' [rad]')\n",
    "plt.xlabel('Time[s]')\n",
    "plt.title('joint positions')\n",
    "\n",
    "plt.figure(figsize=[6, 12])\n",
    "for i in range(3):\n",
    "    plt.subplot(3,1,i+1)\n",
    "    plt.plot(time, measured_velocities[:,i])\n",
    "    plt.plot(time, np.ones_like(time)*dq_des[i],'--')\n",
    "    plt.ylabel(joint_names[i] + ' [rad/s]')\n",
    "plt.xlabel('Time[s]')\n",
    "plt.title('joint velocities')"
   ]
  },
  {
   "cell_type": "markdown",
   "metadata": {},
   "source": [
    "## Questions:\n",
    "(submit a pdf with detailed answers to these questions, including the plots through Brightspace)\n",
    "\n",
    "1. Describe qualitatively what you observe when you increase/decrease P and D.\n",
    "\n",
    "2. Tune the P and D gains to have a good tracking of the positions $[0,0,\\frac{\\pi}{2}]$ without any oscillations. The P and D gains need not be the same for different joints. What gains did you find? Plot the position and velocities of each joints as a function of time with these gains. (starting from the original initial robot configuration).\n",
    "\n",
    "3. Use the PD controller to do the following task: keep the position of the first two joints fixed and follows the following position trajectory for the last joint $0.8 \\sin(\\pi t)$. Plot the results (positions and velocities as a function of time for all joints). Simulate for at least 10 seconds.\n",
    "\n",
    "4. Do question 3. on the real robot.\n",
    "\n",
    "5. Change the joint trajectories to get the robot to draw a circle in the air with its fingertip."
   ]
  },
  {
   "cell_type": "code",
   "execution_count": null,
   "metadata": {},
   "outputs": [],
   "source": []
  }
 ],
 "metadata": {
  "kernelspec": {
   "display_name": "Python 3 (ipykernel)",
   "language": "python",
   "name": "python3"
  },
  "language_info": {
   "codemirror_mode": {
    "name": "ipython",
    "version": 3
   },
   "file_extension": ".py",
   "mimetype": "text/x-python",
   "name": "python",
   "nbconvert_exporter": "python",
   "pygments_lexer": "ipython3",
   "version": "3.9.13"
  },
  "vscode": {
   "interpreter": {
    "hash": "e3d020f828c7b657823432f30379f5f035f7fc5e9ca5b3fc0a7e69cded9ebebc"
   }
  }
 },
 "nbformat": 4,
 "nbformat_minor": 4
}
