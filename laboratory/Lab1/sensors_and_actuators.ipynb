{
 "cells": [
  {
   "cell_type": "markdown",
   "metadata": {},
   "source": [
    "# The NYU finger robot\n",
    "\n",
    "The robot is constituted of 4 rigid bodies together 3 joints. There is one motor per joint and we can send a desired torque to each motor and read the position (angle) and velocity of each joint using the position sensor attached on each motor (the internal software computes the velocities using finite differences).\n",
    "\n",
    "<img src=\"images/finger_edu_1.jpg\" width=600>\n",
    "\n",
    "More details on the robot are avaiable [here](https://github.com/open-dynamic-robot-initiative/open_robot_actuator_hardware/blob/master/mechanics/finger_edu_v1/README.md#fingeredu-v1)\n",
    "\n",
    "\n",
    "# PyBullet - a robot simulator\n",
    "\n",
    "[PyBullet](https://pybullet.org/wordpress/) is a \"rigid body dynamics\" simulator, it means that it can simulate any articulated, rigid, robot. For example our NYU finger but also more complex robots, such as a humanoid, a quadruped or a hand. It can also simulate other objects and several robots at the same time.\n",
    "\n",
    "## How does it work?\n",
    "\n",
    "In a nutshell, every simulator functions as follows:\n",
    "* First a description of the objects and robots to simulate are given, including their dynamic properties (masses, center of mass), their \"boundaries\" (to detect collisions between objects) and graphic files to visualize the robot. The visualization is often different than what is simulated (i.e. we often simplify the geometry of the robot, e.g. using cylinders, for the simulation but display all the details in the visualization)\n",
    "\n",
    "* At each instant of time, the simulator keeps track of all the collisions between all the objects, to know where to compute contact forces. Typically the collisions are simplified to make the simulation fast enough.\n",
    "\n",
    "* The simulator then computes all the forces exerted on all the objects and robots (e.g. gravity, contact between objects, etc) and uses Netwon's law of motion to compute the next position and velocity of all the objects.\n",
    "\n",
    "<img src=\"images/simulation_loop.jpg\" width=400>\n",
    "\n",
    "\n",
    "The user can then decide to apply forces/torques on certain joints, like a motor would do and read all the available information from the simulator to emulate real sensors.\n",
    "\n",
    "As a user, we then need to write a \"controller\" that decides what to do at each simulation step.\n",
    "\n",
    "\n",
    "## Working with the real robot\n",
    "Each robot has different interfaces to be able to read its sensors and send control commands, which can be different from the robot simulator code. For this laboratory, we have wrapped all the functionality needed from PyBullet into the class NYUFingerSimulator located in the file [nyu_finger_simulator.py](./nyu_finger_simulator.py) which also contains the same functions to control the real robot. Therefore, the controllers you write will work both in the simulator and the real robot.\n",
    "\n",
    "We detail below the typical control loop we will use throughout the class."
   ]
  },
  {
   "cell_type": "markdown",
   "metadata": {},
   "source": [
    "# Typical control loops with sensors and actuators\n",
    "\n",
    "We discuss in this section how we can make the robot move by sending motor commands.\n",
    "\n",
    "Every robot comes with a set of actuators that need to be controlled. Typically, a set of \"low-level\" controllers are available such that one can send a desired motor torque or a desired joint position and the robot controller will transform this into a current to modulate the rotation of an electric motor or the opening/closing of a pneumatic or hydraulic valve. This in turn will create a movement of the robot.\n",
    "\n",
    "In our class, we will assume that we can send a desired joint torque and that it will be achieved on the robot. PyBullet enables the same level of \"abstraction\" which is sufficient for most robot applications.\n",
    "\n",
    "We will now see how we can send desired motor torques to the robot."
   ]
  },
  {
   "cell_type": "markdown",
   "metadata": {},
   "source": [
    "## A typical control loop\n",
    "\n",
    "Here is a typical control loop (what you need to design to control a robot):\n",
    "1. First read the sensors\n",
    "2. Compute the desired torque commands\n",
    "3. Send the commands to the motors\n",
    "4. Repeat periodically (typically at a rate of ~100Hz to 1KHz)\n",
    "\n",
    "The example was doing \"open loop\" control because we did not use the sensor measurement to compute the desired commands. \"Closed loop\" control will make use of the sensors to compute the control commands.\n",
    "\n",
    "<img src=\"images/control_loop.png\" width=600>"
   ]
  },
  {
   "cell_type": "markdown",
   "metadata": {},
   "source": [
    "## Example of a simple control loop with the simulation"
   ]
  },
  {
   "cell_type": "code",
   "execution_count": null,
   "metadata": {},
   "outputs": [],
   "source": [
    "#setup nice plotting\n",
    "%matplotlib notebook\n",
    "\n",
    "# we import useful libraries including numpy for easy algebra and matplot for plotting\n",
    "import time\n",
    "import numpy as np\n",
    "import matplotlib as mp\n",
    "import matplotlib.pyplot as plt\n",
    "\n",
    "# we import the helper class to work with either the simulation or real robot\n",
    "use_real_robot = False\n",
    "\n",
    "if use_real_robot:\n",
    "    from nyu_finger import NYUFingerReal    \n",
    "else:\n",
    "    from nyu_finger_simulator import NYUFingerSimulator\n",
    "    \n"
   ]
  },
  {
   "cell_type": "code",
   "execution_count": null,
   "metadata": {},
   "outputs": [],
   "source": [
    "## if we are using the real robot\n",
    "if use_real_robot:\n",
    "    # Triggers the real robot\n",
    "    # Don't forget to turn on the robot first !!!\n",
    "    robot = NYUFingerReal()\n",
    "    \n",
    "    # Make sure that the motor number matches that on the robot\n",
    "    motor_number = np.array([1,2,3])\n",
    "    robot.initialize('ens1', motor_number)\n",
    "    \n",
    "## if we are using the simulation\n",
    "else:\n",
    "    # we can now create a robot simulation\n",
    "    robot = NYUFingerSimulator()"
   ]
  },
  {
   "cell_type": "code",
   "execution_count": null,
   "metadata": {},
   "outputs": [],
   "source": [
    "# we can now send a desired motor command and simulate the behavior of the robot\n",
    "# we send 0.1Nm on the first joint\n",
    "# we also record the measured state of the robot\n",
    "\n",
    "# below is a sample code to run the simulation / collect sensor and command data\n",
    "\n",
    "\n",
    "# we simulate for 5 seconds\n",
    "run_time = 5.\n",
    "dt = 0.001\n",
    "\n",
    "num_steps = int(run_time/dt)\n",
    "\n",
    "\n",
    "## we allocate a few vectors to collect data while we do the simulation\n",
    "measured_positions = np.zeros([num_steps,3])\n",
    "measured_velocities = np.zeros_like(measured_positions)\n",
    "desired_torques = np.zeros_like(measured_positions)\n",
    "time = np.zeros([num_steps])\n",
    "\n",
    "## this is our main control loop ##\n",
    "## we do the loop for num_steps ##\n",
    "for i in range(num_steps):\n",
    "    \n",
    "    # get the current time\n",
    "    time[i] = dt * i\n",
    "    \n",
    "    # we read the position and velocities of the joints from the robot or simulation\n",
    "    q, dq = robot.get_state()\n",
    "    \n",
    "    # we store these values for later use\n",
    "    measured_positions[i,:] = q\n",
    "    measured_velocities[i,:] = dq\n",
    "    \n",
    "    # we compute the desired torques\n",
    "    # here we send a constant torque to each joint\n",
    "    joint_torques = np.array([0.1,0.,0.])\n",
    "    desired_torques[i,:] = joint_torques\n",
    "    \n",
    "    # we send them to the robot\n",
    "    robot.send_joint_torque(joint_torques)\n",
    "    \n",
    "    # we ask the simulator to do one simulation step\n",
    "    robot.step()    "
   ]
  },
  {
   "cell_type": "markdown",
   "metadata": {},
   "source": [
    "## Plotting data after the simulation"
   ]
  },
  {
   "cell_type": "code",
   "execution_count": null,
   "metadata": {
    "scrolled": true
   },
   "outputs": [],
   "source": [
    "# we plot the measured position and velocities of all the joints\n",
    "plt.figure(figsize=[6, 12])\n",
    "joint_names = [\"HAA\", \"HFE\", \"KFE\"]\n",
    "\n",
    "# plot the positions\n",
    "for i in range(3):\n",
    "    plt.subplot(3,1,i+1)\n",
    "    plt.plot(time, measured_positions[:,i])\n",
    "    plt.ylabel(joint_names[i] + ' [rad]')\n",
    "plt.xlabel('Time[s]')\n",
    "plt.title('joint positions')\n",
    "\n",
    "# plot the velocities\n",
    "plt.figure(figsize=[6, 12])\n",
    "for i in range(3):\n",
    "    plt.subplot(3,1,i+1)\n",
    "    plt.plot(time, measured_velocities[:,i])\n",
    "    plt.ylabel(joint_names[i] + ' [rad/s]')\n",
    "plt.xlabel('Time[s]')\n",
    "plt.title('joint velocities')"
   ]
  },
  {
   "cell_type": "markdown",
   "metadata": {},
   "source": [
    "## Questions:\n",
    "(submit a pdf with detailed answers to these questions, including the plots through Brightspace)\n",
    "1. What is the control rate that we used in this example in Hz?\n",
    "\n",
    "2. Describe the behavior of the robot when 0.1 Nm is applied to the 1st joint and 0 Nm applied to the others. What is the physical explanation for this behavior (in words)?\n",
    "\n",
    "3. Apply a periodic torque of $0.05\\sin(2\\pi t)$ Nm on the first joint. What do you observe? Join a plot of the position and velocity for each joint. (start from the same initial pose for the robot)\n",
    "\n",
    "4. Answer 2 and 3 using the real robot - compare with the results in simulation."
   ]
  }
 ],
 "metadata": {
  "kernelspec": {
   "display_name": "Python 3 (ipykernel)",
   "language": "python",
   "name": "python3"
  },
  "language_info": {
   "codemirror_mode": {
    "name": "ipython",
    "version": 3
   },
   "file_extension": ".py",
   "mimetype": "text/x-python",
   "name": "python",
   "nbconvert_exporter": "python",
   "pygments_lexer": "ipython3",
   "version": "3.10.7"
  }
 },
 "nbformat": 4,
 "nbformat_minor": 4
}
